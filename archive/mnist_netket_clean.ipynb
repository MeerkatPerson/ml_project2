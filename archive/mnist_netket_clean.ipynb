{
  "cells": [
    {
      "cell_type": "markdown",
      "id": "6387de74-7f19-446c-9c10-3d201a270a87",
      "metadata": {
        "id": "6387de74-7f19-446c-9c10-3d201a270a87"
      },
      "source": [
        "# Cleaner version of MNIST using Jax, Flax and Netket"
      ]
    },
    {
      "cell_type": "markdown",
      "id": "e558598f-2027-45fc-8b92-b8e8ae74215e",
      "metadata": {
        "id": "e558598f-2027-45fc-8b92-b8e8ae74215e"
      },
      "source": [
        "## 0 - Install Requirements\n",
        "\n",
        "For this example notebook we will need jax+flax+optax for the machine-learning part.\n",
        "\n",
        "For the dataset, instead, we will be using `tensorflow_datasets`, which is a submodule of `tensorflow` that makes it easy to download and load into memory large datasets (such as MNIST and many others).\n",
        "\n",
        "If you are running notebook locally, you need to also install `tensorflow` to make `tensorflow_datasets` work."
      ]
    },
    {
      "cell_type": "code",
      "execution_count": 1,
      "id": "d7895a56-6b30-49bc-b07e-1fe5a6a00b09",
      "metadata": {
        "colab": {
          "base_uri": "https://localhost:8080/"
        },
        "id": "d7895a56-6b30-49bc-b07e-1fe5a6a00b09",
        "outputId": "cbc148e3-bf63-467f-f170-e6f34ecd43c8"
      },
      "outputs": [
        {
          "name": "stdout",
          "output_type": "stream",
          "text": [
            "Requirement already satisfied: tensorflow_datasets in /Users/theresatratzmuller/Documents/Code.nosync/ws21_22/ml/ml_env/lib/python3.8/site-packages (4.4.0)\n",
            "Requirement already satisfied: flax in /Users/theresatratzmuller/Documents/Code.nosync/ws21_22/ml/ml_env/lib/python3.8/site-packages (0.3.6)\n",
            "Requirement already satisfied: jax in /Users/theresatratzmuller/Documents/Code.nosync/ws21_22/ml/ml_env/lib/python3.8/site-packages (0.2.25)\n",
            "Requirement already satisfied: optax in /Users/theresatratzmuller/Documents/Code.nosync/ws21_22/ml/ml_env/lib/python3.8/site-packages (0.1.0)\n",
            "Requirement already satisfied: tqdm in /Users/theresatratzmuller/Documents/Code.nosync/ws21_22/ml/ml_env/lib/python3.8/site-packages (4.62.3)\n",
            "Requirement already satisfied: netket in /Users/theresatratzmuller/Documents/Code.nosync/ws21_22/ml/ml_env/lib/python3.8/site-packages (3.2)\n",
            "Requirement already satisfied: imgaug==0.2.6 in /Users/theresatratzmuller/Documents/Code.nosync/ws21_22/ml/ml_env/lib/python3.8/site-packages (0.2.6)\n",
            "Requirement already satisfied: six in /Users/theresatratzmuller/Documents/Code.nosync/ws21_22/ml/ml_env/lib/python3.8/site-packages (from tensorflow_datasets) (1.16.0)\n",
            "Requirement already satisfied: future in /Users/theresatratzmuller/Documents/Code.nosync/ws21_22/ml/ml_env/lib/python3.8/site-packages (from tensorflow_datasets) (0.18.2)\n",
            "Requirement already satisfied: absl-py in /Users/theresatratzmuller/Documents/Code.nosync/ws21_22/ml/ml_env/lib/python3.8/site-packages (from tensorflow_datasets) (1.0.0)\n",
            "Requirement already satisfied: attrs>=18.1.0 in /Users/theresatratzmuller/Documents/Code.nosync/ws21_22/ml/ml_env/lib/python3.8/site-packages (from tensorflow_datasets) (21.2.0)\n",
            "Requirement already satisfied: requests>=2.19.0 in /Users/theresatratzmuller/Documents/Code.nosync/ws21_22/ml/ml_env/lib/python3.8/site-packages (from tensorflow_datasets) (2.26.0)\n",
            "Requirement already satisfied: numpy in /Users/theresatratzmuller/Documents/Code.nosync/ws21_22/ml/ml_env/lib/python3.8/site-packages (from tensorflow_datasets) (1.20.0)\n",
            "Requirement already satisfied: importlib-resources; python_version < \"3.9\" in /Users/theresatratzmuller/Documents/Code.nosync/ws21_22/ml/ml_env/lib/python3.8/site-packages (from tensorflow_datasets) (5.4.0)\n",
            "Requirement already satisfied: termcolor in /Users/theresatratzmuller/Documents/Code.nosync/ws21_22/ml/ml_env/lib/python3.8/site-packages (from tensorflow_datasets) (1.1.0)\n",
            "Requirement already satisfied: tensorflow-metadata in /Users/theresatratzmuller/Documents/Code.nosync/ws21_22/ml/ml_env/lib/python3.8/site-packages (from tensorflow_datasets) (1.5.0)\n",
            "Requirement already satisfied: protobuf>=3.12.2 in /Users/theresatratzmuller/Documents/Code.nosync/ws21_22/ml/ml_env/lib/python3.8/site-packages (from tensorflow_datasets) (3.19.1)\n",
            "Requirement already satisfied: dill in /Users/theresatratzmuller/Documents/Code.nosync/ws21_22/ml/ml_env/lib/python3.8/site-packages (from tensorflow_datasets) (0.3.4)\n",
            "Requirement already satisfied: promise in /Users/theresatratzmuller/Documents/Code.nosync/ws21_22/ml/ml_env/lib/python3.8/site-packages (from tensorflow_datasets) (2.3)\n",
            "Requirement already satisfied: matplotlib in /Users/theresatratzmuller/Documents/Code.nosync/ws21_22/ml/ml_env/lib/python3.8/site-packages (from flax) (3.4.3)\n",
            "Requirement already satisfied: msgpack in /Users/theresatratzmuller/Documents/Code.nosync/ws21_22/ml/ml_env/lib/python3.8/site-packages (from flax) (1.0.3)\n",
            "Requirement already satisfied: opt_einsum in /Users/theresatratzmuller/Documents/Code.nosync/ws21_22/ml/ml_env/lib/python3.8/site-packages (from jax) (3.3.0)\n",
            "Requirement already satisfied: scipy>=1.2.1 in /Users/theresatratzmuller/Documents/Code.nosync/ws21_22/ml/ml_env/lib/python3.8/site-packages (from jax) (1.7.1)\n",
            "Requirement already satisfied: typing_extensions in /Users/theresatratzmuller/Documents/Code.nosync/ws21_22/ml/ml_env/lib/python3.8/site-packages (from jax) (3.10.0.2)\n",
            "Requirement already satisfied: jaxlib>=0.1.37 in /Users/theresatratzmuller/Documents/Code.nosync/ws21_22/ml/ml_env/lib/python3.8/site-packages (from optax) (0.1.74)\n",
            "Requirement already satisfied: chex>=0.0.4 in /Users/theresatratzmuller/Documents/Code.nosync/ws21_22/ml/ml_env/lib/python3.8/site-packages (from optax) (0.1.0)\n",
            "Requirement already satisfied: numba4jax<0.1,>=0.0.1 in /Users/theresatratzmuller/Documents/Code.nosync/ws21_22/ml/ml_env/lib/python3.8/site-packages (from netket) (0.0.4)\n",
            "Requirement already satisfied: igraph~=0.9.8 in /Users/theresatratzmuller/Documents/Code.nosync/ws21_22/ml/ml_env/lib/python3.8/site-packages (from netket) (0.9.8)\n",
            "Requirement already satisfied: orjson~=3.4 in /Users/theresatratzmuller/Documents/Code.nosync/ws21_22/ml/ml_env/lib/python3.8/site-packages (from netket) (3.6.4)\n",
            "Requirement already satisfied: plum-dispatch~=1.5.1 in /Users/theresatratzmuller/Documents/Code.nosync/ws21_22/ml/ml_env/lib/python3.8/site-packages (from netket) (1.5.7)\n",
            "Requirement already satisfied: numba<0.55,>=0.52 in /Users/theresatratzmuller/Documents/Code.nosync/ws21_22/ml/ml_env/lib/python3.8/site-packages (from netket) (0.54.1)\n",
            "Requirement already satisfied: scikit-image>=0.11.0 in /Users/theresatratzmuller/Documents/Code.nosync/ws21_22/ml/ml_env/lib/python3.8/site-packages (from imgaug==0.2.6) (0.19.0)\n",
            "Requirement already satisfied: certifi>=2017.4.17 in /Users/theresatratzmuller/Documents/Code.nosync/ws21_22/ml/ml_env/lib/python3.8/site-packages (from requests>=2.19.0->tensorflow_datasets) (2021.10.8)\n",
            "Requirement already satisfied: idna<4,>=2.5; python_version >= \"3\" in /Users/theresatratzmuller/Documents/Code.nosync/ws21_22/ml/ml_env/lib/python3.8/site-packages (from requests>=2.19.0->tensorflow_datasets) (3.3)\n",
            "Requirement already satisfied: urllib3<1.27,>=1.21.1 in /Users/theresatratzmuller/Documents/Code.nosync/ws21_22/ml/ml_env/lib/python3.8/site-packages (from requests>=2.19.0->tensorflow_datasets) (1.26.7)\n",
            "Requirement already satisfied: charset-normalizer~=2.0.0; python_version >= \"3\" in /Users/theresatratzmuller/Documents/Code.nosync/ws21_22/ml/ml_env/lib/python3.8/site-packages (from requests>=2.19.0->tensorflow_datasets) (2.0.8)\n",
            "Requirement already satisfied: zipp>=3.1.0; python_version < \"3.10\" in /Users/theresatratzmuller/Documents/Code.nosync/ws21_22/ml/ml_env/lib/python3.8/site-packages (from importlib-resources; python_version < \"3.9\"->tensorflow_datasets) (3.6.0)\n",
            "Requirement already satisfied: googleapis-common-protos<2,>=1.52.0 in /Users/theresatratzmuller/Documents/Code.nosync/ws21_22/ml/ml_env/lib/python3.8/site-packages (from tensorflow-metadata->tensorflow_datasets) (1.53.0)\n",
            "Requirement already satisfied: cycler>=0.10 in /Users/theresatratzmuller/Documents/Code.nosync/ws21_22/ml/ml_env/lib/python3.8/site-packages (from matplotlib->flax) (0.10.0)\n",
            "Requirement already satisfied: pillow>=6.2.0 in /Users/theresatratzmuller/Documents/Code.nosync/ws21_22/ml/ml_env/lib/python3.8/site-packages (from matplotlib->flax) (8.3.2)\n",
            "Requirement already satisfied: pyparsing>=2.2.1 in /Users/theresatratzmuller/Documents/Code.nosync/ws21_22/ml/ml_env/lib/python3.8/site-packages (from matplotlib->flax) (2.4.7)\n",
            "Requirement already satisfied: python-dateutil>=2.7 in /Users/theresatratzmuller/Documents/Code.nosync/ws21_22/ml/ml_env/lib/python3.8/site-packages (from matplotlib->flax) (2.8.2)\n",
            "Requirement already satisfied: kiwisolver>=1.0.1 in /Users/theresatratzmuller/Documents/Code.nosync/ws21_22/ml/ml_env/lib/python3.8/site-packages (from matplotlib->flax) (1.3.2)\n",
            "Requirement already satisfied: flatbuffers<3.0,>=1.12 in /Users/theresatratzmuller/Documents/Code.nosync/ws21_22/ml/ml_env/lib/python3.8/site-packages (from jaxlib>=0.1.37->optax) (2.0)\n",
            "Requirement already satisfied: dm-tree>=0.1.5 in /Users/theresatratzmuller/Documents/Code.nosync/ws21_22/ml/ml_env/lib/python3.8/site-packages (from chex>=0.0.4->optax) (0.1.6)\n",
            "Requirement already satisfied: toolz>=0.9.0 in /Users/theresatratzmuller/Documents/Code.nosync/ws21_22/ml/ml_env/lib/python3.8/site-packages (from chex>=0.0.4->optax) (0.11.2)\n",
            "Requirement already satisfied: cffi>=1.12 in /Users/theresatratzmuller/Documents/Code.nosync/ws21_22/ml/ml_env/lib/python3.8/site-packages (from numba4jax<0.1,>=0.0.1->netket) (1.14.6)\n",
            "Requirement already satisfied: texttable>=1.6.2 in /Users/theresatratzmuller/Documents/Code.nosync/ws21_22/ml/ml_env/lib/python3.8/site-packages (from igraph~=0.9.8->netket) (1.6.4)\n",
            "Requirement already satisfied: llvmlite<0.38,>=0.37.0rc1 in /Users/theresatratzmuller/Documents/Code.nosync/ws21_22/ml/ml_env/lib/python3.8/site-packages (from numba<0.55,>=0.52->netket) (0.37.0)\n",
            "Requirement already satisfied: setuptools in /Users/theresatratzmuller/Documents/Code.nosync/ws21_22/ml/ml_env/lib/python3.8/site-packages (from numba<0.55,>=0.52->netket) (41.2.0)\n",
            "Requirement already satisfied: packaging>=20.0 in /Users/theresatratzmuller/Documents/Code.nosync/ws21_22/ml/ml_env/lib/python3.8/site-packages (from scikit-image>=0.11.0->imgaug==0.2.6) (21.0)\n",
            "Requirement already satisfied: PyWavelets>=1.1.1 in /Users/theresatratzmuller/Documents/Code.nosync/ws21_22/ml/ml_env/lib/python3.8/site-packages (from scikit-image>=0.11.0->imgaug==0.2.6) (1.2.0)\n",
            "Requirement already satisfied: tifffile>=2019.7.26 in /Users/theresatratzmuller/Documents/Code.nosync/ws21_22/ml/ml_env/lib/python3.8/site-packages (from scikit-image>=0.11.0->imgaug==0.2.6) (2021.11.2)\n",
            "Requirement already satisfied: networkx>=2.2 in /Users/theresatratzmuller/Documents/Code.nosync/ws21_22/ml/ml_env/lib/python3.8/site-packages (from scikit-image>=0.11.0->imgaug==0.2.6) (2.6.3)\n",
            "Requirement already satisfied: imageio>=2.4.1 in /Users/theresatratzmuller/Documents/Code.nosync/ws21_22/ml/ml_env/lib/python3.8/site-packages (from scikit-image>=0.11.0->imgaug==0.2.6) (2.13.1)\n",
            "Requirement already satisfied: pycparser in /Users/theresatratzmuller/Documents/Code.nosync/ws21_22/ml/ml_env/lib/python3.8/site-packages (from cffi>=1.12->numba4jax<0.1,>=0.0.1->netket) (2.20)\n",
            "\u001b[33mWARNING: You are using pip version 19.2.3, however version 21.3.1 is available.\n",
            "You should consider upgrading via the 'pip install --upgrade pip' command.\u001b[0m\n"
          ]
        }
      ],
      "source": [
        "# Requirements\n",
        "!pip install tensorflow_datasets flax jax optax tqdm netket imgaug==0.2.6"
      ]
    },
    {
      "cell_type": "markdown",
      "id": "55c5988d-c3c3-43d0-abc8-6ceb1c09054d",
      "metadata": {
        "id": "55c5988d-c3c3-43d0-abc8-6ceb1c09054d"
      },
      "source": [
        "## 1 - Setting up the dataset\n",
        "First of all, we need to download the dataset.\n",
        "\n",
        "The MNIST dataset is a standard dataset composed of several 28x28 black/white images representing numbers, and a label corresponding to the number that is represented there."
      ]
    },
    {
      "cell_type": "code",
      "execution_count": 2,
      "metadata": {},
      "outputs": [
        {
          "name": "stderr",
          "output_type": "stream",
          "text": [
            "/Users/theresatratzmuller/Documents/Code.nosync/ws21_22/ml/ml_env/lib/python3.8/site-packages/jax/experimental/stax.py:28: FutureWarning: jax.experimental.stax is deprecated, import jax.example_libraries.stax instead\n",
            "  warnings.warn('jax.experimental.stax is deprecated, '\n"
          ]
        }
      ],
      "source": [
        "from utils import *"
      ]
    },
    {
      "cell_type": "markdown",
      "metadata": {},
      "source": [
        "Load the dataset, normalize it, convert it to floating point (? hope Fabrizio's minmax-normalization actually does this), split into train and test."
      ]
    },
    {
      "cell_type": "code",
      "execution_count": 3,
      "metadata": {},
      "outputs": [
        {
          "name": "stdout",
          "output_type": "stream",
          "text": [
            "WARNING:tensorflow:From /Users/theresatratzmuller/Documents/Code.nosync/ws21_22/ml/ml_env/lib/python3.8/site-packages/tensorflow_datasets/core/dataset_builder.py:622: get_single_element (from tensorflow.python.data.experimental.ops.get_single_element) is deprecated and will be removed in a future version.\n",
            "Instructions for updating:\n",
            "Use `tf.data.Dataset.get_single_element()`.\n"
          ]
        },
        {
          "name": "stderr",
          "output_type": "stream",
          "text": [
            "WARNING:tensorflow:From /Users/theresatratzmuller/Documents/Code.nosync/ws21_22/ml/ml_env/lib/python3.8/site-packages/tensorflow_datasets/core/dataset_builder.py:622: get_single_element (from tensorflow.python.data.experimental.ops.get_single_element) is deprecated and will be removed in a future version.\n",
            "Instructions for updating:\n",
            "Use `tf.data.Dataset.get_single_element()`.\n"
          ]
        }
      ],
      "source": [
        "train_ds, test_ds = get_data()"
      ]
    },
    {
      "cell_type": "markdown",
      "id": "15665ab5-cb0c-4478-a48e-e0515cbe4fef",
      "metadata": {
        "id": "15665ab5-cb0c-4478-a48e-e0515cbe4fef"
      },
      "source": [
        "Visualize"
      ]
    },
    {
      "cell_type": "code",
      "execution_count": 4,
      "id": "e6146cb7-be9d-4206-8b60-ae27699f0444",
      "metadata": {
        "colab": {
          "base_uri": "https://localhost:8080/",
          "height": 540
        },
        "id": "e6146cb7-be9d-4206-8b60-ae27699f0444",
        "outputId": "d8143b07-dfaf-4b8e-f65c-7fd8dd3f8c42"
      },
      "outputs": [
        {
          "data": {
            "image/png": "[encoded data removed]",
            "text/plain": [
              "<Figure size 648x648 with 9 Axes>"
            ]
          },
          "metadata": {},
          "output_type": "display_data"
        }
      ],
      "source": [
        "show_img_grid(\n",
        "    [train_ds['image'][idx] for idx in range(9)],\n",
        "    [f'label={train_ds[\"label\"][idx]}' for idx in range(9)],\n",
        ")"
      ]
    },
    {
      "cell_type": "markdown",
      "id": "0bf695fb-0fab-49f3-81fd-9a23fc7ea311",
      "metadata": {
        "id": "0bf695fb-0fab-49f3-81fd-9a23fc7ea311"
      },
      "source": []
    },
    {
      "cell_type": "markdown",
      "id": "98e56e14-2a4e-4fad-9d47-809ba4b0a354",
      "metadata": {
        "id": "98e56e14-2a4e-4fad-9d47-809ba4b0a354"
      },
      "source": [
        "## 2 - The model (Neural Network)\n",
        "\n",
        "We want now to define the Model.\n",
        "We will use Flax to do that.\n",
        "\n",
        "We want our network to return a probability distribution for the input to correspond to one of several output labels.\n",
        "\n",
        "e.g: if $x$ is an image, then $f : \\mathbb{R}^{28\\times 28}\\rightarrow \\mathbb{R}^{10}$ and $f^{(i)}(x)$ is the probability that the image $x$ represents a $i\\in[0,9]$\n",
        "\n",
        "To make the output of the network a probability distribution, we can use a softmax function, defined as\n",
        "\n",
        "$$\n",
        "\\sigma_i(x) = \\frac{e^{x_i}}{\\sum_i^K e^{x_i} }  \\text{   for  } i\\in [1,K] \\text{ and } x\\in\\mathbb{R}^K\n",
        "$$\n",
        "\n",
        "We want to use a Feedforward network with 2 Dense Layers, relu-nonlinearity and output softmax using Flax.\n"
      ]
    },
    {
      "cell_type": "markdown",
      "metadata": {},
      "source": [
        "***NOTE*** (to myself and whoever else may be interested in this information): we use softmax rather than argmax when training a NN because the argmax wouldn't work with backpropagation (zero derivatives!)"
      ]
    },
    {
      "cell_type": "code",
      "execution_count": 5,
      "id": "8af5cf83-b3e2-4a1d-b204-73f383952134",
      "metadata": {
        "colab": {
          "base_uri": "https://localhost:8080/"
        },
        "id": "8af5cf83-b3e2-4a1d-b204-73f383952134",
        "outputId": "7463208a-8173-4234-a600-86485bb3d402"
      },
      "outputs": [],
      "source": [
        "import jax\n",
        "import jax.numpy as jnp\n",
        "\n",
        "# We import flax.linen as nn\n",
        "# The reason is that flax.nn is old and deprecated and will be removed one day\n",
        "import jax\n",
        "import flax\n",
        "\n",
        "# From now on, use netket as nk wherever the original notebook uses flax.linen as nn!\n",
        "import netket as nk\n",
        "import jax.numpy as jnp\n",
        "\n",
        "from jax.experimental import stax"
      ]
    },
    {
      "cell_type": "markdown",
      "metadata": {},
      "source": [
        "Activation originally suggested by Carleo: modRelu."
      ]
    },
    {
      "cell_type": "code",
      "execution_count": 6,
      "id": "7bf8a1ee-844e-4342-8578-6a0df21cc422",
      "metadata": {
        "id": "7bf8a1ee-844e-4342-8578-6a0df21cc422"
      },
      "outputs": [],
      "source": [
        "def modRelu(z, bias): # relu(|z|+b) * (z / |z|)\n",
        "    norm = jnp.abs(z)\n",
        "    scale = nk.nn.relu(norm + bias) / (norm + 1e-6)\n",
        "    scaled = jax.lax.complex(jnp.real(z)*scale, jnp.imag(z)*scale)\n",
        "    return scaled\n",
        "modRelu=jax.jit(modRelu)"
      ]
    },
    {
      "cell_type": "markdown",
      "metadata": {},
      "source": [
        "New activation function suggestion by Dian:"
      ]
    },
    {
      "cell_type": "code",
      "execution_count": 7,
      "metadata": {},
      "outputs": [],
      "source": [
        "def complex_relu(z):\n",
        "    return jnp.where(z.real > 0, z, 0)"
      ]
    },
    {
      "cell_type": "code",
      "execution_count": 8,
      "id": "ePoAUw5oqWa3",
      "metadata": {
        "id": "ePoAUw5oqWa3"
      },
      "outputs": [],
      "source": [
        "# Same model as above but complex\n",
        "\n",
        "class Model(nk.nn.Module):\n",
        "  n_classes : int = 10\n",
        "  @nk.nn.compact\n",
        "  # Provide a constructor to register a new parameter \n",
        "  # and return its initial value\n",
        "  def __call__(self, x):\n",
        "    #dropout_rng = self.make_rng('dropout')\n",
        "\n",
        "    x = nk.nn.Conv(features=32, kernel_size=(3, 3), dtype=complex)(x)\n",
        "\n",
        "    # bias1 = self.param('bias1', jax.nn.initializers.zeros, (28,28,32))\n",
        "    # x = modRelu(x, bias1)\n",
        "\n",
        "    x = complex_relu(x)\n",
        "\n",
        "    x = flax.linen.avg_pool(x, window_shape=(2, 2), strides=(2, 2)) \n",
        "    \n",
        "    x = nk.nn.Conv(features=64, kernel_size=(3, 3), dtype=complex)(x)\n",
        "    #x = flax.linen.Dropout(0.5, deterministic=True)(x) #DROPOUT 1\n",
        "\n",
        "    # bias2 = self.param('bias2', jax.nn.initializers.zeros, (14,14,64))\n",
        "    # x = x = modRelu(x, bias2)\n",
        "    x = complex_relu(x)\n",
        "\n",
        "    x = flax.linen.avg_pool(x, window_shape=(2, 2), strides=(2, 2))\n",
        "    x = x.reshape((x.shape[0], -1)) # Flatten\n",
        "    x = nk.nn.Dense(features=256, dtype=complex)(x)\n",
        "\n",
        "    # bias3 = self.param('bias3', jax.nn.initializers.zeros, 256)\n",
        "    # x = x = modRelu(x, bias3)\n",
        "    x = complex_relu(x)\n",
        "\n",
        "    #x = flax.linen.Dropout(0.5, deterministic=True)(x) # DROPOUT 2\n",
        "\n",
        "    x = nk.nn.Dense(features=10, dtype=complex)(x)    # There are 10 classes in MNIST\n",
        "\n",
        "    x = jnp.abs(x) #<= I guess this isn't required anymore?\n",
        "    # x = nk.nn.softmax(x)\n",
        "\n",
        "    # In the Jax tutorial, log_softmax is used - should we use it too?\n",
        "    # => let's try\n",
        "    x = nk.nn.log_softmax(x)\n",
        "\n",
        "    return x\n"
      ]
    },
    {
      "cell_type": "markdown",
      "metadata": {},
      "source": [
        "Set this model as a global variable too."
      ]
    },
    {
      "cell_type": "code",
      "execution_count": 9,
      "metadata": {},
      "outputs": [],
      "source": [
        "set_model(Model)"
      ]
    },
    {
      "cell_type": "markdown",
      "metadata": {},
      "source": [
        "## 3 - set up randomness generators, hyperparameters, optimiser"
      ]
    },
    {
      "cell_type": "markdown",
      "metadata": {},
      "source": [
        "Initialize the train state, using seed randomness (I copied this from the [flax documentation](https://flax.readthedocs.io/en/latest/notebooks/annotated_mnist.html))"
      ]
    },
    {
      "cell_type": "code",
      "execution_count": 10,
      "metadata": {},
      "outputs": [
        {
          "name": "stderr",
          "output_type": "stream",
          "text": [
            "WARNING:absl:No GPU/TPU found, falling back to CPU. (Set TF_CPP_MIN_LOG_LEVEL=0 and rerun for more info.)\n"
          ]
        }
      ],
      "source": [
        "rng = jax.random.PRNGKey(0)\n",
        "rng, init_rng = jax.random.split(rng)"
      ]
    },
    {
      "cell_type": "code",
      "execution_count": null,
      "metadata": {},
      "outputs": [],
      "source": [
        "dropout_rng, init_dropout = jax.random.split(jax.random.PRNGKey(1))"
      ]
    },
    {
      "cell_type": "code",
      "execution_count": 11,
      "metadata": {},
      "outputs": [],
      "source": [
        "learning_rate = 0.1\n",
        "momentum = 0.9"
      ]
    },
    {
      "cell_type": "code",
      "execution_count": 12,
      "metadata": {},
      "outputs": [],
      "source": [
        "import optax\n",
        "\n",
        "# Construct the optimiser\n",
        "# we use optimisers from the optax package which is a very comprehensive\n",
        "# optimiser library\n",
        "optimiser = optax.sgd(learning_rate, momentum)"
      ]
    },
    {
      "cell_type": "markdown",
      "metadata": {},
      "source": [
        "## 4 - create the initial state"
      ]
    },
    {
      "cell_type": "code",
      "execution_count": 14,
      "metadata": {},
      "outputs": [],
      "source": [
        "state = create_train_state(init_rng, optimiser, init_dropout)\n",
        "del init_rng  # Must not be used anymore."
      ]
    },
    {
      "cell_type": "markdown",
      "metadata": {},
      "source": [
        "## 5 - define the loss function"
      ]
    },
    {
      "cell_type": "code",
      "execution_count": 15,
      "metadata": {},
      "outputs": [],
      "source": [
        "# The loss function that we will use\n",
        "def cross_entropy(*, logits, labels):\n",
        "    one_hot_labels = jax.nn.one_hot(labels, num_classes=10)\n",
        "    return -jnp.mean(jnp.sum(one_hot_labels * logits, axis=-1))"
      ]
    },
    {
      "cell_type": "code",
      "execution_count": 16,
      "metadata": {},
      "outputs": [],
      "source": [
        "set_loss_fn(cross_entropy)"
      ]
    },
    {
      "cell_type": "markdown",
      "metadata": {},
      "source": [
        "## 6 - do the actual training"
      ]
    },
    {
      "cell_type": "code",
      "execution_count": 17,
      "id": "6a077215-b821-45cf-8747-cd7154f4351a",
      "metadata": {
        "colab": {
          "base_uri": "https://localhost:8080/",
          "height": 396,
          "referenced_widgets": [
            "ca9e12c942d44da198e547847a9858e8",
            "7d8e72ccff7a4e879b6337b7c5d7c661",
            "697375ac698e4bc8a872c12933b4a522",
            "dde09fc3f18f4b1c91fb42f7111e0500",
            "acf2fc1089844f0c9e7790b157c892d6",
            "9b160d0b614c4b0eb031b800bfd12aa4",
            "5bd5b0f8ff3441c1be0e851acee6ecde",
            "8f1a2792ffd04a798b7bd3ab9ccc8f8b",
            "6ac9a75e9e694f90b0e1c0a9c4ac1c3c",
            "2e6b61e193674b23b3f74ac232abbceb",
            "eef312eb689a435d94f40232015fd293"
          ]
        },
        "id": "6a077215-b821-45cf-8747-cd7154f4351a",
        "outputId": "b983e8dd-3ab4-4057-9b16-95c9cc0d81c1"
      },
      "outputs": [
        {
          "name": "stderr",
          "output_type": "stream",
          "text": [
            "  0%|          | 0/10 [12:26<?, ?it/s]\n"
          ]
        },
        {
          "ename": "KeyboardInterrupt",
          "evalue": "",
          "output_type": "error",
          "traceback": [
            "\u001b[0;31m---------------------------------------------------------------------------\u001b[0m",
            "\u001b[0;31mKeyboardInterrupt\u001b[0m                         Traceback (most recent call last)",
            "\u001b[0;32m/var/folders/b0/v5cl87nj5q5_f0wrtyh4g4kw0000gn/T/ipykernel_48329/1937121936.py\u001b[0m in \u001b[0;36m<module>\u001b[0;34m\u001b[0m\n\u001b[1;32m     15\u001b[0m         \u001b[0;31m# dropout_rng, _ = jax.random.split(dropout_rng)\u001b[0m\u001b[0;34m\u001b[0m\u001b[0;34m\u001b[0m\u001b[0;34m\u001b[0m\u001b[0m\n\u001b[1;32m     16\u001b[0m         \u001b[0;31m# Run an optimization step over a training batch\u001b[0m\u001b[0;34m\u001b[0m\u001b[0;34m\u001b[0m\u001b[0;34m\u001b[0m\u001b[0m\n\u001b[0;32m---> 17\u001b[0;31m         \u001b[0mstate\u001b[0m\u001b[0;34m,\u001b[0m \u001b[0mtrain_metrics\u001b[0m \u001b[0;34m=\u001b[0m \u001b[0mtrain_epoch\u001b[0m\u001b[0;34m(\u001b[0m\u001b[0mstate\u001b[0m\u001b[0;34m,\u001b[0m \u001b[0mtrain_ds\u001b[0m\u001b[0;34m,\u001b[0m \u001b[0mbatch_size\u001b[0m\u001b[0;34m,\u001b[0m \u001b[0mepoch\u001b[0m\u001b[0;34m,\u001b[0m \u001b[0minput_rng\u001b[0m\u001b[0;34m,\u001b[0m \u001b[0mdropout_rng\u001b[0m\u001b[0;34m)\u001b[0m\u001b[0;34m\u001b[0m\u001b[0;34m\u001b[0m\u001b[0m\n\u001b[0m\u001b[1;32m     18\u001b[0m \u001b[0;34m\u001b[0m\u001b[0m\n\u001b[1;32m     19\u001b[0m         \u001b[0;31m# Evaluate on the test set after each training epoch\u001b[0m\u001b[0;34m\u001b[0m\u001b[0;34m\u001b[0m\u001b[0;34m\u001b[0m\u001b[0m\n",
            "\u001b[0;32m~/Documents/Code.nosync/ws21_22/ml/projects/project2/utils.py\u001b[0m in \u001b[0;36mtrain_epoch\u001b[0;34m(state, train_ds, batch_size, epoch, rng, dropout_rng, max_steps)\u001b[0m\n\u001b[1;32m    161\u001b[0m     \u001b[0;32mfor\u001b[0m \u001b[0mperm\u001b[0m \u001b[0;32min\u001b[0m \u001b[0mperms\u001b[0m\u001b[0;34m:\u001b[0m\u001b[0;34m\u001b[0m\u001b[0;34m\u001b[0m\u001b[0m\n\u001b[1;32m    162\u001b[0m         \u001b[0mbatch\u001b[0m \u001b[0;34m=\u001b[0m \u001b[0;34m{\u001b[0m\u001b[0mk\u001b[0m\u001b[0;34m:\u001b[0m \u001b[0mv\u001b[0m\u001b[0;34m[\u001b[0m\u001b[0mperm\u001b[0m\u001b[0;34m,\u001b[0m \u001b[0;34m...\u001b[0m\u001b[0;34m]\u001b[0m \u001b[0;32mfor\u001b[0m \u001b[0mk\u001b[0m\u001b[0;34m,\u001b[0m \u001b[0mv\u001b[0m \u001b[0;32min\u001b[0m \u001b[0mtrain_ds\u001b[0m\u001b[0;34m.\u001b[0m\u001b[0mitems\u001b[0m\u001b[0;34m(\u001b[0m\u001b[0;34m)\u001b[0m\u001b[0;34m}\u001b[0m\u001b[0;34m\u001b[0m\u001b[0;34m\u001b[0m\u001b[0m\n\u001b[0;32m--> 163\u001b[0;31m         \u001b[0mstate\u001b[0m\u001b[0;34m,\u001b[0m \u001b[0mmetrics\u001b[0m \u001b[0;34m=\u001b[0m \u001b[0mtrain_step\u001b[0m\u001b[0;34m(\u001b[0m\u001b[0mstate\u001b[0m\u001b[0;34m,\u001b[0m \u001b[0mbatch\u001b[0m\u001b[0;34m,\u001b[0m \u001b[0mdropout_rng\u001b[0m\u001b[0;34m)\u001b[0m\u001b[0;34m\u001b[0m\u001b[0;34m\u001b[0m\u001b[0m\n\u001b[0m\u001b[1;32m    164\u001b[0m         \u001b[0mbatch_metrics\u001b[0m\u001b[0;34m.\u001b[0m\u001b[0mappend\u001b[0m\u001b[0;34m(\u001b[0m\u001b[0mmetrics\u001b[0m\u001b[0;34m)\u001b[0m\u001b[0;34m\u001b[0m\u001b[0;34m\u001b[0m\u001b[0m\n\u001b[1;32m    165\u001b[0m \u001b[0;34m\u001b[0m\u001b[0m\n",
            "\u001b[0;32m~/Documents/Code.nosync/ws21_22/ml/ml_env/lib/python3.8/site-packages/flax/core/frozen_dict.py\u001b[0m in \u001b[0;36mtree_unflatten\u001b[0;34m(cls, _, data)\u001b[0m\n\u001b[1;32m    155\u001b[0m     \u001b[0;32mreturn\u001b[0m \u001b[0;34m(\u001b[0m\u001b[0mself\u001b[0m\u001b[0;34m.\u001b[0m\u001b[0m_dict\u001b[0m\u001b[0;34m,\u001b[0m\u001b[0;34m)\u001b[0m\u001b[0;34m,\u001b[0m \u001b[0;34m(\u001b[0m\u001b[0;34m)\u001b[0m\u001b[0;34m\u001b[0m\u001b[0;34m\u001b[0m\u001b[0m\n\u001b[1;32m    156\u001b[0m \u001b[0;34m\u001b[0m\u001b[0m\n\u001b[0;32m--> 157\u001b[0;31m   \u001b[0;34m@\u001b[0m\u001b[0mclassmethod\u001b[0m\u001b[0;34m\u001b[0m\u001b[0;34m\u001b[0m\u001b[0m\n\u001b[0m\u001b[1;32m    158\u001b[0m   \u001b[0;32mdef\u001b[0m \u001b[0mtree_unflatten\u001b[0m\u001b[0;34m(\u001b[0m\u001b[0mcls\u001b[0m\u001b[0;34m,\u001b[0m \u001b[0m_\u001b[0m\u001b[0;34m,\u001b[0m \u001b[0mdata\u001b[0m\u001b[0;34m)\u001b[0m\u001b[0;34m:\u001b[0m\u001b[0;34m\u001b[0m\u001b[0;34m\u001b[0m\u001b[0m\n\u001b[1;32m    159\u001b[0m     \u001b[0;31m# data is already deep copied due to tree map mechanism\u001b[0m\u001b[0;34m\u001b[0m\u001b[0;34m\u001b[0m\u001b[0;34m\u001b[0m\u001b[0m\n",
            "\u001b[0;31mKeyboardInterrupt\u001b[0m: "
          ]
        }
      ],
      "source": [
        "# Import the TQDM progress bar module using automatic notebook detection\n",
        "# Otherwise it would not work..\n",
        "from tqdm.auto import tqdm\n",
        "\n",
        "num_epochs = 10\n",
        "\n",
        "batch_size = 32\n",
        "\n",
        "metrics = {\"test_loss\" : [], \"test_accuracy\": [], \"train_loss\":[], \"train_accuracy\":[]}\n",
        "\n",
        "with tqdm(range(1, num_epochs + 1)) as pbar:\n",
        "    for epoch in pbar:\n",
        "        # Use a separate PRNG key to permute image data during shuffling\n",
        "        rng, input_rng = jax.random.split(rng)\n",
        "        # dropout_rng, _ = jax.random.split(dropout_rng)\n",
        "        # Run an optimization step over a training batch\n",
        "        state, train_metrics = train_epoch(state, train_ds, batch_size, epoch, input_rng, dropout_rng)\n",
        "        \n",
        "        # Evaluate on the test set after each training epoch\n",
        "        test_loss, test_accuracy = evaluate_model(state.params, test_ds)\n",
        "        pbar.write('train epoch: %d, loss: %.4f, accuracy: %.2f' % (epoch, train_metrics['loss'], train_metrics['accuracy'] * 100))\n",
        "        pbar.write(' test epoch: %d, loss: %.2f, accuracy: %.2f' % (epoch, test_loss, test_accuracy * 100))\n",
        "\n",
        "        # save data\n",
        "        metrics[\"train_loss\"].append(train_metrics[\"loss\"])\n",
        "        metrics[\"train_accuracy\"].append(train_metrics[\"accuracy\"])\n",
        "        metrics[\"test_loss\"].append(test_loss)\n",
        "        metrics[\"test_accuracy\"].append(test_accuracy)\n",
        "\n",
        "    "
      ]
    },
    {
      "cell_type": "markdown",
      "metadata": {},
      "source": [
        "## 7 - check performance"
      ]
    },
    {
      "cell_type": "markdown",
      "id": "d3489436-f20c-4e1b-8d2c-05ac86769fc0",
      "metadata": {
        "id": "d3489436-f20c-4e1b-8d2c-05ac86769fc0"
      },
      "source": [
        "We now want to check the performance of the model"
      ]
    },
    {
      "cell_type": "code",
      "execution_count": null,
      "id": "aefca0cb-80ed-43df-84de-1b4073a84d54",
      "metadata": {
        "colab": {
          "base_uri": "https://localhost:8080/"
        },
        "id": "aefca0cb-80ed-43df-84de-1b4073a84d54",
        "outputId": "06a49221-82b1-45fb-9524-1c320e12284f"
      },
      "outputs": [
        {
          "data": {
            "text/plain": [
              "Text(0, 0.5, 'Accuracy')"
            ]
          },
          "execution_count": 32,
          "metadata": {},
          "output_type": "execute_result"
        },
        {
          "data": {
            "image/png": "[encoded data removed]",
            "text/plain": [
              "<Figure size 864x216 with 2 Axes>"
            ]
          },
          "metadata": {
            "needs_background": "light"
          },
          "output_type": "display_data"
        }
      ],
      "source": [
        "import matplotlib.pyplot as plt\n",
        "\n",
        "fig, axs = plt.subplots(1,2, figsize=(12,3))\n",
        "\n",
        "axs[0].plot(metrics[\"train_loss\"], label=\"train\")\n",
        "axs[0].plot(metrics[\"test_loss\"], label=\"test\")\n",
        "axs[0].legend()\n",
        "axs[0].set_xlabel(\"Epoch #\")\n",
        "axs[0].set_ylabel(\"Loss\")\n",
        "\n",
        "\n",
        "axs[1].plot(metrics[\"train_accuracy\"], label=\"train\")\n",
        "axs[1].plot(metrics[\"test_accuracy\"], label=\"test\")\n",
        "axs[1].legend()\n",
        "axs[1].set_xlabel(\"Epoch #\")\n",
        "axs[1].set_ylabel(\"Accuracy\")"
      ]
    }
  ],
  "metadata": {
    "accelerator": "GPU",
    "colab": {
      "collapsed_sections": [],
      "name": "Copie de Copie de 2a-mnist.ipynb",
      "provenance": []
    },
    "interpreter": {
      "hash": "af2da5cc5270e94f5935e371be818e4bec70253d0f779505a7b15694dfa8a491"
    },
    "kernelspec": {
      "display_name": "Python 3.8.3 64-bit ('ml_env': venv)",
      "name": "python3"
    },
    "language_info": {
      "codemirror_mode": {
        "name": "ipython",
        "version": 3
      },
      "file_extension": ".py",
      "mimetype": "text/x-python",
      "name": "python",
      "nbconvert_exporter": "python",
      "pygments_lexer": "ipython3",
      "version": "3.8.3"
    },
    "widgets": {
      "application/vnd.jupyter.widget-state+json": {
        "04701b94470e4411b492e05f32420185": {
          "model_module": "@jupyter-widgets/base",
          "model_module_version": "1.2.0",
          "model_name": "LayoutModel",
          "state": {
            "_model_module": "@jupyter-widgets/base",
            "_model_module_version": "1.2.0",
            "_model_name": "LayoutModel",
            "_view_count": null,
            "_view_module": "@jupyter-widgets/base",
            "_view_module_version": "1.2.0",
            "_view_name": "LayoutView",
            "align_content": null,
            "align_items": null,
            "align_self": null,
            "border": null,
            "bottom": null,
            "display": null,
            "flex": null,
            "flex_flow": null,
            "grid_area": null,
            "grid_auto_columns": null,
            "grid_auto_flow": null,
            "grid_auto_rows": null,
            "grid_column": null,
            "grid_gap": null,
            "grid_row": null,
            "grid_template_areas": null,
            "grid_template_columns": null,
            "grid_template_rows": null,
            "height": null,
            "justify_content": null,
            "justify_items": null,
            "left": null,
            "margin": null,
            "max_height": null,
            "max_width": null,
            "min_height": null,
            "min_width": null,
            "object_fit": null,
            "object_position": null,
            "order": null,
            "overflow": null,
            "overflow_x": null,
            "overflow_y": null,
            "padding": null,
            "right": null,
            "top": null,
            "visibility": null,
            "width": null
          }
        },
        "2e6b61e193674b23b3f74ac232abbceb": {
          "model_module": "@jupyter-widgets/controls",
          "model_module_version": "1.5.0",
          "model_name": "DescriptionStyleModel",
          "state": {
            "_model_module": "@jupyter-widgets/controls",
            "_model_module_version": "1.5.0",
            "_model_name": "DescriptionStyleModel",
            "_view_count": null,
            "_view_module": "@jupyter-widgets/base",
            "_view_module_version": "1.2.0",
            "_view_name": "StyleView",
            "description_width": ""
          }
        },
        "320532e08f5549aca2ef73d7eaa1b355": {
          "model_module": "@jupyter-widgets/base",
          "model_module_version": "1.2.0",
          "model_name": "LayoutModel",
          "state": {
            "_model_module": "@jupyter-widgets/base",
            "_model_module_version": "1.2.0",
            "_model_name": "LayoutModel",
            "_view_count": null,
            "_view_module": "@jupyter-widgets/base",
            "_view_module_version": "1.2.0",
            "_view_name": "LayoutView",
            "align_content": null,
            "align_items": null,
            "align_self": null,
            "border": null,
            "bottom": null,
            "display": null,
            "flex": null,
            "flex_flow": null,
            "grid_area": null,
            "grid_auto_columns": null,
            "grid_auto_flow": null,
            "grid_auto_rows": null,
            "grid_column": null,
            "grid_gap": null,
            "grid_row": null,
            "grid_template_areas": null,
            "grid_template_columns": null,
            "grid_template_rows": null,
            "height": null,
            "justify_content": null,
            "justify_items": null,
            "left": null,
            "margin": null,
            "max_height": null,
            "max_width": null,
            "min_height": null,
            "min_width": null,
            "object_fit": null,
            "object_position": null,
            "order": null,
            "overflow": null,
            "overflow_x": null,
            "overflow_y": null,
            "padding": null,
            "right": null,
            "top": null,
            "visibility": null,
            "width": null
          }
        },
        "32c1a0067c3a4e7fba9065e92bdbc018": {
          "model_module": "@jupyter-widgets/controls",
          "model_module_version": "1.5.0",
          "model_name": "HTMLModel",
          "state": {
            "_dom_classes": [],
            "_model_module": "@jupyter-widgets/controls",
            "_model_module_version": "1.5.0",
            "_model_name": "HTMLModel",
            "_view_count": null,
            "_view_module": "@jupyter-widgets/controls",
            "_view_module_version": "1.5.0",
            "_view_name": "HTMLView",
            "description": "",
            "description_tooltip": null,
            "layout": "IPY_MODEL_320532e08f5549aca2ef73d7eaa1b355",
            "placeholder": "​",
            "style": "IPY_MODEL_ace16b3606ad493aab790446a3319436",
            "value": " 4/4 [00:00&lt;00:00,  6.58 file/s]"
          }
        },
        "55e80ba5b1cf432a9fb796a67a3f78b9": {
          "model_module": "@jupyter-widgets/controls",
          "model_module_version": "1.5.0",
          "model_name": "ProgressStyleModel",
          "state": {
            "_model_module": "@jupyter-widgets/controls",
            "_model_module_version": "1.5.0",
            "_model_name": "ProgressStyleModel",
            "_view_count": null,
            "_view_module": "@jupyter-widgets/base",
            "_view_module_version": "1.2.0",
            "_view_name": "StyleView",
            "bar_color": null,
            "description_width": ""
          }
        },
        "5bd5b0f8ff3441c1be0e851acee6ecde": {
          "model_module": "@jupyter-widgets/base",
          "model_module_version": "1.2.0",
          "model_name": "LayoutModel",
          "state": {
            "_model_module": "@jupyter-widgets/base",
            "_model_module_version": "1.2.0",
            "_model_name": "LayoutModel",
            "_view_count": null,
            "_view_module": "@jupyter-widgets/base",
            "_view_module_version": "1.2.0",
            "_view_name": "LayoutView",
            "align_content": null,
            "align_items": null,
            "align_self": null,
            "border": null,
            "bottom": null,
            "display": null,
            "flex": null,
            "flex_flow": null,
            "grid_area": null,
            "grid_auto_columns": null,
            "grid_auto_flow": null,
            "grid_auto_rows": null,
            "grid_column": null,
            "grid_gap": null,
            "grid_row": null,
            "grid_template_areas": null,
            "grid_template_columns": null,
            "grid_template_rows": null,
            "height": null,
            "justify_content": null,
            "justify_items": null,
            "left": null,
            "margin": null,
            "max_height": null,
            "max_width": null,
            "min_height": null,
            "min_width": null,
            "object_fit": null,
            "object_position": null,
            "order": null,
            "overflow": null,
            "overflow_x": null,
            "overflow_y": null,
            "padding": null,
            "right": null,
            "top": null,
            "visibility": null,
            "width": null
          }
        },
        "697375ac698e4bc8a872c12933b4a522": {
          "model_module": "@jupyter-widgets/controls",
          "model_module_version": "1.5.0",
          "model_name": "HTMLModel",
          "state": {
            "_dom_classes": [],
            "_model_module": "@jupyter-widgets/controls",
            "_model_module_version": "1.5.0",
            "_model_name": "HTMLModel",
            "_view_count": null,
            "_view_module": "@jupyter-widgets/controls",
            "_view_module_version": "1.5.0",
            "_view_name": "HTMLView",
            "description": "",
            "description_tooltip": null,
            "layout": "IPY_MODEL_5bd5b0f8ff3441c1be0e851acee6ecde",
            "placeholder": "​",
            "style": "IPY_MODEL_9b160d0b614c4b0eb031b800bfd12aa4",
            "value": "100%"
          }
        },
        "6ac9a75e9e694f90b0e1c0a9c4ac1c3c": {
          "model_module": "@jupyter-widgets/base",
          "model_module_version": "1.2.0",
          "model_name": "LayoutModel",
          "state": {
            "_model_module": "@jupyter-widgets/base",
            "_model_module_version": "1.2.0",
            "_model_name": "LayoutModel",
            "_view_count": null,
            "_view_module": "@jupyter-widgets/base",
            "_view_module_version": "1.2.0",
            "_view_name": "LayoutView",
            "align_content": null,
            "align_items": null,
            "align_self": null,
            "border": null,
            "bottom": null,
            "display": null,
            "flex": null,
            "flex_flow": null,
            "grid_area": null,
            "grid_auto_columns": null,
            "grid_auto_flow": null,
            "grid_auto_rows": null,
            "grid_column": null,
            "grid_gap": null,
            "grid_row": null,
            "grid_template_areas": null,
            "grid_template_columns": null,
            "grid_template_rows": null,
            "height": null,
            "justify_content": null,
            "justify_items": null,
            "left": null,
            "margin": null,
            "max_height": null,
            "max_width": null,
            "min_height": null,
            "min_width": null,
            "object_fit": null,
            "object_position": null,
            "order": null,
            "overflow": null,
            "overflow_x": null,
            "overflow_y": null,
            "padding": null,
            "right": null,
            "top": null,
            "visibility": null,
            "width": null
          }
        },
        "78c429eff6024aa2a512b15e9b8e5e9d": {
          "model_module": "@jupyter-widgets/controls",
          "model_module_version": "1.5.0",
          "model_name": "DescriptionStyleModel",
          "state": {
            "_model_module": "@jupyter-widgets/controls",
            "_model_module_version": "1.5.0",
            "_model_name": "DescriptionStyleModel",
            "_view_count": null,
            "_view_module": "@jupyter-widgets/base",
            "_view_module_version": "1.2.0",
            "_view_name": "StyleView",
            "description_width": ""
          }
        },
        "7d8e72ccff7a4e879b6337b7c5d7c661": {
          "model_module": "@jupyter-widgets/base",
          "model_module_version": "1.2.0",
          "model_name": "LayoutModel",
          "state": {
            "_model_module": "@jupyter-widgets/base",
            "_model_module_version": "1.2.0",
            "_model_name": "LayoutModel",
            "_view_count": null,
            "_view_module": "@jupyter-widgets/base",
            "_view_module_version": "1.2.0",
            "_view_name": "LayoutView",
            "align_content": null,
            "align_items": null,
            "align_self": null,
            "border": null,
            "bottom": null,
            "display": null,
            "flex": null,
            "flex_flow": null,
            "grid_area": null,
            "grid_auto_columns": null,
            "grid_auto_flow": null,
            "grid_auto_rows": null,
            "grid_column": null,
            "grid_gap": null,
            "grid_row": null,
            "grid_template_areas": null,
            "grid_template_columns": null,
            "grid_template_rows": null,
            "height": null,
            "justify_content": null,
            "justify_items": null,
            "left": null,
            "margin": null,
            "max_height": null,
            "max_width": null,
            "min_height": null,
            "min_width": null,
            "object_fit": null,
            "object_position": null,
            "order": null,
            "overflow": null,
            "overflow_x": null,
            "overflow_y": null,
            "padding": null,
            "right": null,
            "top": null,
            "visibility": null,
            "width": null
          }
        },
        "891bacd221794bbfa89a2f02dbdee926": {
          "model_module": "@jupyter-widgets/controls",
          "model_module_version": "1.5.0",
          "model_name": "FloatProgressModel",
          "state": {
            "_dom_classes": [],
            "_model_module": "@jupyter-widgets/controls",
            "_model_module_version": "1.5.0",
            "_model_name": "FloatProgressModel",
            "_view_count": null,
            "_view_module": "@jupyter-widgets/controls",
            "_view_module_version": "1.5.0",
            "_view_name": "ProgressView",
            "bar_style": "success",
            "description": "",
            "description_tooltip": null,
            "layout": "IPY_MODEL_91384fa0fe154c09837d63ce7c101eae",
            "max": 4,
            "min": 0,
            "orientation": "horizontal",
            "style": "IPY_MODEL_55e80ba5b1cf432a9fb796a67a3f78b9",
            "value": 4
          }
        },
        "8f1a2792ffd04a798b7bd3ab9ccc8f8b": {
          "model_module": "@jupyter-widgets/controls",
          "model_module_version": "1.5.0",
          "model_name": "ProgressStyleModel",
          "state": {
            "_model_module": "@jupyter-widgets/controls",
            "_model_module_version": "1.5.0",
            "_model_name": "ProgressStyleModel",
            "_view_count": null,
            "_view_module": "@jupyter-widgets/base",
            "_view_module_version": "1.2.0",
            "_view_name": "StyleView",
            "bar_color": null,
            "description_width": ""
          }
        },
        "91384fa0fe154c09837d63ce7c101eae": {
          "model_module": "@jupyter-widgets/base",
          "model_module_version": "1.2.0",
          "model_name": "LayoutModel",
          "state": {
            "_model_module": "@jupyter-widgets/base",
            "_model_module_version": "1.2.0",
            "_model_name": "LayoutModel",
            "_view_count": null,
            "_view_module": "@jupyter-widgets/base",
            "_view_module_version": "1.2.0",
            "_view_name": "LayoutView",
            "align_content": null,
            "align_items": null,
            "align_self": null,
            "border": null,
            "bottom": null,
            "display": null,
            "flex": null,
            "flex_flow": null,
            "grid_area": null,
            "grid_auto_columns": null,
            "grid_auto_flow": null,
            "grid_auto_rows": null,
            "grid_column": null,
            "grid_gap": null,
            "grid_row": null,
            "grid_template_areas": null,
            "grid_template_columns": null,
            "grid_template_rows": null,
            "height": null,
            "justify_content": null,
            "justify_items": null,
            "left": null,
            "margin": null,
            "max_height": null,
            "max_width": null,
            "min_height": null,
            "min_width": null,
            "object_fit": null,
            "object_position": null,
            "order": null,
            "overflow": null,
            "overflow_x": null,
            "overflow_y": null,
            "padding": null,
            "right": null,
            "top": null,
            "visibility": null,
            "width": null
          }
        },
        "9b160d0b614c4b0eb031b800bfd12aa4": {
          "model_module": "@jupyter-widgets/controls",
          "model_module_version": "1.5.0",
          "model_name": "DescriptionStyleModel",
          "state": {
            "_model_module": "@jupyter-widgets/controls",
            "_model_module_version": "1.5.0",
            "_model_name": "DescriptionStyleModel",
            "_view_count": null,
            "_view_module": "@jupyter-widgets/base",
            "_view_module_version": "1.2.0",
            "_view_name": "StyleView",
            "description_width": ""
          }
        },
        "ace16b3606ad493aab790446a3319436": {
          "model_module": "@jupyter-widgets/controls",
          "model_module_version": "1.5.0",
          "model_name": "DescriptionStyleModel",
          "state": {
            "_model_module": "@jupyter-widgets/controls",
            "_model_module_version": "1.5.0",
            "_model_name": "DescriptionStyleModel",
            "_view_count": null,
            "_view_module": "@jupyter-widgets/base",
            "_view_module_version": "1.2.0",
            "_view_name": "StyleView",
            "description_width": ""
          }
        },
        "acf2fc1089844f0c9e7790b157c892d6": {
          "model_module": "@jupyter-widgets/controls",
          "model_module_version": "1.5.0",
          "model_name": "HTMLModel",
          "state": {
            "_dom_classes": [],
            "_model_module": "@jupyter-widgets/controls",
            "_model_module_version": "1.5.0",
            "_model_name": "HTMLModel",
            "_view_count": null,
            "_view_module": "@jupyter-widgets/controls",
            "_view_module_version": "1.5.0",
            "_view_name": "HTMLView",
            "description": "",
            "description_tooltip": null,
            "layout": "IPY_MODEL_eef312eb689a435d94f40232015fd293",
            "placeholder": "​",
            "style": "IPY_MODEL_2e6b61e193674b23b3f74ac232abbceb",
            "value": " 10/10 [05:00&lt;00:00, 28.54s/it]"
          }
        },
        "ca9e12c942d44da198e547847a9858e8": {
          "model_module": "@jupyter-widgets/controls",
          "model_module_version": "1.5.0",
          "model_name": "HBoxModel",
          "state": {
            "_dom_classes": [],
            "_model_module": "@jupyter-widgets/controls",
            "_model_module_version": "1.5.0",
            "_model_name": "HBoxModel",
            "_view_count": null,
            "_view_module": "@jupyter-widgets/controls",
            "_view_module_version": "1.5.0",
            "_view_name": "HBoxView",
            "box_style": "",
            "children": [
              "IPY_MODEL_697375ac698e4bc8a872c12933b4a522",
              "IPY_MODEL_dde09fc3f18f4b1c91fb42f7111e0500",
              "IPY_MODEL_acf2fc1089844f0c9e7790b157c892d6"
            ],
            "layout": "IPY_MODEL_7d8e72ccff7a4e879b6337b7c5d7c661"
          }
        },
        "d7aa4fb804ea4a73996663c5d0822eb2": {
          "model_module": "@jupyter-widgets/controls",
          "model_module_version": "1.5.0",
          "model_name": "HTMLModel",
          "state": {
            "_dom_classes": [],
            "_model_module": "@jupyter-widgets/controls",
            "_model_module_version": "1.5.0",
            "_model_name": "HTMLModel",
            "_view_count": null,
            "_view_module": "@jupyter-widgets/controls",
            "_view_module_version": "1.5.0",
            "_view_name": "HTMLView",
            "description": "",
            "description_tooltip": null,
            "layout": "IPY_MODEL_dd1bc9bdf2a84c17be8de44ceb04d62f",
            "placeholder": "​",
            "style": "IPY_MODEL_78c429eff6024aa2a512b15e9b8e5e9d",
            "value": "Dl Completed...: 100%"
          }
        },
        "dd1bc9bdf2a84c17be8de44ceb04d62f": {
          "model_module": "@jupyter-widgets/base",
          "model_module_version": "1.2.0",
          "model_name": "LayoutModel",
          "state": {
            "_model_module": "@jupyter-widgets/base",
            "_model_module_version": "1.2.0",
            "_model_name": "LayoutModel",
            "_view_count": null,
            "_view_module": "@jupyter-widgets/base",
            "_view_module_version": "1.2.0",
            "_view_name": "LayoutView",
            "align_content": null,
            "align_items": null,
            "align_self": null,
            "border": null,
            "bottom": null,
            "display": null,
            "flex": null,
            "flex_flow": null,
            "grid_area": null,
            "grid_auto_columns": null,
            "grid_auto_flow": null,
            "grid_auto_rows": null,
            "grid_column": null,
            "grid_gap": null,
            "grid_row": null,
            "grid_template_areas": null,
            "grid_template_columns": null,
            "grid_template_rows": null,
            "height": null,
            "justify_content": null,
            "justify_items": null,
            "left": null,
            "margin": null,
            "max_height": null,
            "max_width": null,
            "min_height": null,
            "min_width": null,
            "object_fit": null,
            "object_position": null,
            "order": null,
            "overflow": null,
            "overflow_x": null,
            "overflow_y": null,
            "padding": null,
            "right": null,
            "top": null,
            "visibility": null,
            "width": null
          }
        },
        "dde09fc3f18f4b1c91fb42f7111e0500": {
          "model_module": "@jupyter-widgets/controls",
          "model_module_version": "1.5.0",
          "model_name": "FloatProgressModel",
          "state": {
            "_dom_classes": [],
            "_model_module": "@jupyter-widgets/controls",
            "_model_module_version": "1.5.0",
            "_model_name": "FloatProgressModel",
            "_view_count": null,
            "_view_module": "@jupyter-widgets/controls",
            "_view_module_version": "1.5.0",
            "_view_name": "ProgressView",
            "bar_style": "success",
            "description": "",
            "description_tooltip": null,
            "layout": "IPY_MODEL_6ac9a75e9e694f90b0e1c0a9c4ac1c3c",
            "max": 10,
            "min": 0,
            "orientation": "horizontal",
            "style": "IPY_MODEL_8f1a2792ffd04a798b7bd3ab9ccc8f8b",
            "value": 10
          }
        },
        "eef312eb689a435d94f40232015fd293": {
          "model_module": "@jupyter-widgets/base",
          "model_module_version": "1.2.0",
          "model_name": "LayoutModel",
          "state": {
            "_model_module": "@jupyter-widgets/base",
            "_model_module_version": "1.2.0",
            "_model_name": "LayoutModel",
            "_view_count": null,
            "_view_module": "@jupyter-widgets/base",
            "_view_module_version": "1.2.0",
            "_view_name": "LayoutView",
            "align_content": null,
            "align_items": null,
            "align_self": null,
            "border": null,
            "bottom": null,
            "display": null,
            "flex": null,
            "flex_flow": null,
            "grid_area": null,
            "grid_auto_columns": null,
            "grid_auto_flow": null,
            "grid_auto_rows": null,
            "grid_column": null,
            "grid_gap": null,
            "grid_row": null,
            "grid_template_areas": null,
            "grid_template_columns": null,
            "grid_template_rows": null,
            "height": null,
            "justify_content": null,
            "justify_items": null,
            "left": null,
            "margin": null,
            "max_height": null,
            "max_width": null,
            "min_height": null,
            "min_width": null,
            "object_fit": null,
            "object_position": null,
            "order": null,
            "overflow": null,
            "overflow_x": null,
            "overflow_y": null,
            "padding": null,
            "right": null,
            "top": null,
            "visibility": null,
            "width": null
          }
        },
        "fdbbfa9dd9274ac5b5122eb70e8bd166": {
          "model_module": "@jupyter-widgets/controls",
          "model_module_version": "1.5.0",
          "model_name": "HBoxModel",
          "state": {
            "_dom_classes": [],
            "_model_module": "@jupyter-widgets/controls",
            "_model_module_version": "1.5.0",
            "_model_name": "HBoxModel",
            "_view_count": null,
            "_view_module": "@jupyter-widgets/controls",
            "_view_module_version": "1.5.0",
            "_view_name": "HBoxView",
            "box_style": "",
            "children": [
              "IPY_MODEL_d7aa4fb804ea4a73996663c5d0822eb2",
              "IPY_MODEL_891bacd221794bbfa89a2f02dbdee926",
              "IPY_MODEL_32c1a0067c3a4e7fba9065e92bdbc018"
            ],
            "layout": "IPY_MODEL_04701b94470e4411b492e05f32420185"
          }
        }
      }
    }
  },
  "nbformat": 4,
  "nbformat_minor": 5
}
