{
  "cells": [
    {
      "cell_type": "code",
      "execution_count": null,
      "id": "d7895a56-6b30-49bc-b07e-1fe5a6a00b09",
      "metadata": {
        "id": "d7895a56-6b30-49bc-b07e-1fe5a6a00b09"
      },
      "outputs": [],
      "source": [
        "# Requirements\n",
        "!pip install tensorflow_datasets flax jax optax tqdm netket imgaug==0.2.6"
      ]
    },
    {
      "cell_type": "code",
      "execution_count": null,
      "id": "1I_fGRr1yJ8q",
      "metadata": {
        "id": "1I_fGRr1yJ8q"
      },
      "outputs": [],
      "source": [
        "import jax\n",
        "import jax.numpy as jnp\n",
        "import numpy as np\n",
        "from matplotlib import pyplot as plt\n",
        "import tensorflow_datasets as tfds\n",
        "import jax\n",
        "import jax.numpy as jnp\n",
        "import jax\n",
        "import flax\n",
        "import netket as nk\n",
        "import jax.numpy as jnp\n",
        "from jax.experimental import stax\n",
        "import optax\n",
        "from flax.training import train_state  # Useful dataclass to keep train state\n",
        "from functools import partial\n",
        "from tqdm.auto import tqdm\n",
        "import matplotlib.pyplot as plt"
      ]
    },
    {
      "cell_type": "markdown",
      "id": "3f998ee7-4e9d-4538-b125-5222253ad15b",
      "metadata": {
        "id": "3f998ee7-4e9d-4538-b125-5222253ad15b"
      },
      "source": [
        "### Utility Functions"
      ]
    },
    {
      "cell_type": "code",
      "execution_count": null,
      "id": "561535f1-4d9a-4908-bbb7-e63c94d22d47",
      "metadata": {
        "id": "561535f1-4d9a-4908-bbb7-e63c94d22d47"
      },
      "outputs": [],
      "source": [
        "def show_img(img, ax=None, title=None):\n",
        "  \"\"\"Shows a single image.\n",
        "  \n",
        "  Must be stored as a 3d-tensor where the last dimension is 1 channel (greyscale)\n",
        "  \"\"\"\n",
        "  if ax is None:\n",
        "    ax = plt.gca()\n",
        "  ax.imshow(img[..., 0], cmap='gray')\n",
        "  ax.set_xticks([])\n",
        "  ax.set_yticks([])\n",
        "  if title:\n",
        "    ax.set_title(title)\n",
        "\n",
        "def show_img_grid(imgs, titles):\n",
        "  \"\"\"Shows a grid of images.\"\"\"\n",
        "  n = int(np.ceil(len(imgs)**.5))\n",
        "  _, axs = plt.subplots(n, n, figsize=(3 * n, 3 * n))\n",
        "  for i, (img, title) in enumerate(zip(imgs, titles)):\n",
        "    show_img(img, axs[i // n][i % n], title)"
      ]
    },
    {
      "cell_type": "markdown",
      "id": "55c5988d-c3c3-43d0-abc8-6ceb1c09054d",
      "metadata": {
        "id": "55c5988d-c3c3-43d0-abc8-6ceb1c09054d"
      },
      "source": [
        "##Setting up the dataset\n"
      ]
    },
    {
      "cell_type": "code",
      "execution_count": null,
      "id": "90e05be1-0fd8-4562-8251-f8caa0576d3e",
      "metadata": {
        "colab": {
          "base_uri": "https://localhost:8080/",
          "height": 451,
          "referenced_widgets": [
            "8ff514412b4d491e81fcd83f968b66c8",
            "0686dc5f30974a56b12f3493dd71521f",
            "d43f4da5a6064e2f94e167e2f0b4cae1",
            "8eabb0f4b64a482685484b77497e22a1",
            "a86c5ff5f77147159f200f5815ee6559",
            "d5e02f4f92ed4704b91e4a299a56e5cd",
            "bc8d01a4bf2c4e199546244756a491b7",
            "6b7b64d0e68047dd9e1b8e9caa037cb6",
            "d435ca24bb894e6492aaeef0502ddbfa",
            "1e459b6735644e22b81ff9ad4a6968c7",
            "e3a6492eca994860b5bf4dd81298cd78"
          ]
        },
        "id": "90e05be1-0fd8-4562-8251-f8caa0576d3e",
        "outputId": "6d191945-9df3-43ea-fb0c-b8e12fe7b7d1"
      },
      "outputs": [
        {
          "name": "stdout",
          "output_type": "stream",
          "text": [
            "\u001b[1mDownloading and preparing dataset mnist/3.0.1 (download: 11.06 MiB, generated: 21.00 MiB, total: 32.06 MiB) to /root/tensorflow_datasets/mnist/3.0.1...\u001b[0m\n"
          ]
        },
        {
          "name": "stderr",
          "output_type": "stream",
          "text": [
            "WARNING:absl:Dataset mnist is hosted on GCS. It will automatically be downloaded to your\n",
            "local data directory. If you'd instead prefer to read directly from our public\n",
            "GCS bucket (recommended if you're running on GCP), you can instead pass\n",
            "`try_gcs=True` to `tfds.load` or set `data_dir=gs://tfds-data/datasets`.\n",
            "\n"
          ]
        },
        {
          "data": {
            "application/vnd.jupyter.widget-view+json": {
              "model_id": "8ff514412b4d491e81fcd83f968b66c8",
              "version_major": 2,
              "version_minor": 0
            },
            "text/plain": [
              "Dl Completed...:   0%|          | 0/4 [00:00<?, ? file/s]"
            ]
          },
          "metadata": {},
          "output_type": "display_data"
        },
        {
          "name": "stdout",
          "output_type": "stream",
          "text": [
            "\n",
            "\u001b[1mDataset mnist downloaded and prepared to /root/tensorflow_datasets/mnist/3.0.1. Subsequent calls will reuse this data.\u001b[0m\n",
            "WARNING:tensorflow:From /usr/local/lib/python3.7/dist-packages/tensorflow_datasets/core/dataset_builder.py:598: get_single_element (from tensorflow.python.data.experimental.ops.get_single_element) is deprecated and will be removed in a future version.\n",
            "Instructions for updating:\n",
            "Use `tf.data.Dataset.get_single_element()`.\n"
          ]
        },
        {
          "name": "stderr",
          "output_type": "stream",
          "text": [
            "WARNING:tensorflow:From /usr/local/lib/python3.7/dist-packages/tensorflow_datasets/core/dataset_builder.py:598: get_single_element (from tensorflow.python.data.experimental.ops.get_single_element) is deprecated and will be removed in a future version.\n",
            "Instructions for updating:\n",
            "Use `tf.data.Dataset.get_single_element()`.\n"
          ]
        },
        {
          "name": "stdout",
          "output_type": "stream",
          "text": [
            "dataset keys: dict_keys(['image', 'label'])\n",
            "The training dataset has shape: (60000, 28, 28, 1) and dtype float32\n",
            "The test     dataset has shape: (10000, 28, 28, 1) and dtype float32\n",
            "\n",
            "The training labels have shape: (60000,) and dtype int64\n",
            "The test     labels have shape: (10000,) and dtype int64\n",
            "The mean     of the data stored in the images are:  0.13066046\n",
            "The variance of the data stored in the images are:  0.09493043\n"
          ]
        }
      ],
      "source": [
        "#import\n",
        "ds_builder = tfds.builder('mnist')\n",
        "ds_builder.download_and_prepare()\n",
        "train_ds = tfds.as_numpy(ds_builder.as_dataset(split='train', batch_size=-1))\n",
        "test_ds = tfds.as_numpy(ds_builder.as_dataset(split='test', batch_size=-1))\n",
        "# Normalize\n",
        "train_ds['image'] = jnp.float32(train_ds['image']) / 255.\n",
        "test_ds['image'] = jnp.float32(test_ds['image']) / 255.\n",
        "print(\"dataset keys:\", train_ds.keys())\n",
        "print(f\"The training dataset has shape: {train_ds['image'].shape} and dtype {train_ds['image'].dtype}\")\n",
        "print(f\"The test     dataset has shape: {test_ds['image'].shape} and dtype {train_ds['image'].dtype}\")\n",
        "print(\"\")\n",
        "print(f\"The training labels have shape: {train_ds['label'].shape} and dtype {train_ds['label'].dtype}\")\n",
        "print(f\"The test     labels have shape: {test_ds['label'].shape} and dtype {test_ds['label'].dtype}\")\n",
        "print(\"The mean     of the data stored in the images are: \", np.mean(train_ds['image']))\n",
        "print(\"The variance of the data stored in the images are: \", np.var(train_ds['image']))"
      ]
    },
    {
      "cell_type": "markdown",
      "id": "OokSS4OSzCDB",
      "metadata": {
        "id": "OokSS4OSzCDB"
      },
      "source": [
        "##Non-linearities"
      ]
    },
    {
      "cell_type": "code",
      "execution_count": null,
      "id": "7bf8a1ee-844e-4342-8578-6a0df21cc422",
      "metadata": {
        "id": "7bf8a1ee-844e-4342-8578-6a0df21cc422"
      },
      "outputs": [],
      "source": [
        "def modRelu(z, bias): # relu(|z|+b) * (z / |z|)\n",
        "    norm = jnp.abs(z)\n",
        "    scale = nk.nn.relu(norm + bias) / (norm + 1e-6)\n",
        "    scaled = jax.lax.complex(jnp.real(z)*scale, jnp.imag(z)*scale)\n",
        "    return scaled\n",
        "def complex_relu(z):\n",
        "    return jnp.where(z.real > 0, z, 0)\n",
        "complex_relu = jax.jit(complex_relu)\n",
        "modRelu=jax.jit(modRelu)"
      ]
    },
    {
      "cell_type": "markdown",
      "id": "cX35iGYmz5T8",
      "metadata": {
        "id": "cX35iGYmz5T8"
      },
      "source": [
        "## Define Model"
      ]
    },
    {
      "cell_type": "code",
      "execution_count": null,
      "id": "ePoAUw5oqWa3",
      "metadata": {
        "id": "ePoAUw5oqWa3"
      },
      "outputs": [],
      "source": [
        "# You can add a fft layer here. You can have up to 2. It is better to put them at the beginning or at the end\n",
        "class Model(nk.nn.Module):\n",
        "  n_classes : int = 10\n",
        "  @nk.nn.compact\n",
        "  def __call__(self, x, train):\n",
        "    #make rng for dropoutlayer\n",
        "    dropout_rng = self.make_rng('dropout')\n",
        "\n",
        "    #first convolutions 3x3 --> 32. Avgpol 2x2 stride 2x2\n",
        "    x = nk.nn.Conv(features=32, kernel_size=(3, 3), dtype=complex)(x)\n",
        "    x = complex_relu(x)\n",
        "    x = flax.linen.avg_pool(x, window_shape=(2, 2), strides=(2, 2)) \n",
        "    \n",
        "    #second convolution 3x3 -->64. Avgpol 2x2 stride 2x2\n",
        "    x = nk.nn.Conv(features=64, kernel_size=(3, 3), dtype=complex)(x)\n",
        "    x = flax.linen.Dropout(0.5, deterministic=not train)(x) #DROPOUT 1\n",
        "    x = complex_relu(x)\n",
        "    x = flax.linen.avg_pool(x, window_shape=(2, 2), strides=(2, 2))\n",
        "\n",
        "    #flatten and dense\n",
        "    x = x.reshape((x.shape[0], -1))\n",
        "    x = nk.nn.Dense(features=256, dtype=complex)(x)\n",
        "    x = complex_relu(x)\n",
        "\n",
        "    #DROPOUT 2\n",
        "    x = flax.linen.Dropout(0.5, deterministic=not train)(x) \n",
        "\n",
        "    #dense2 and softmax\n",
        "    x = nk.nn.Dense(features=10, dtype=complex)(x)    # There are 10 classes in MNIST\n",
        "    x = jnp.abs(x)\n",
        "    x = nk.nn.log_softmax(x)\n",
        "    return x"
      ]
    },
    {
      "cell_type": "markdown",
      "id": "Kgm9Uo7Tz9US",
      "metadata": {
        "id": "Kgm9Uo7Tz9US"
      },
      "source": [
        "## Loss functions"
      ]
    },
    {
      "cell_type": "code",
      "execution_count": null,
      "id": "e4112499-6b6f-445e-bd18-22fd5b0b2a78",
      "metadata": {
        "id": "e4112499-6b6f-445e-bd18-22fd5b0b2a78"
      },
      "outputs": [],
      "source": [
        "# The loss function that we will use\n",
        "def cross_entropy(*, logits, labels):\n",
        "    one_hot_labels = jax.nn.one_hot(labels, num_classes=10)\n",
        "    return -jnp.mean(jnp.sum(one_hot_labels * logits, axis=-1))"
      ]
    },
    {
      "cell_type": "code",
      "execution_count": null,
      "id": "Hx-ZQzpLZMj4",
      "metadata": {
        "id": "Hx-ZQzpLZMj4"
      },
      "outputs": [],
      "source": [
        "dropout_rng, init_dropout = jax.random.split(jax.random.PRNGKey(1))\n"
      ]
    },
    {
      "cell_type": "code",
      "execution_count": null,
      "id": "e90668ed-0090-446a-81d3-4f6e1763b2e2",
      "metadata": {
        "id": "e90668ed-0090-446a-81d3-4f6e1763b2e2"
      },
      "outputs": [],
      "source": [
        "def loss_fn(params, dropout_rng, images, labels):\n",
        "    \"\"\"\n",
        "    Loss function minimised during training of the model.\n",
        "    \"\"\"\n",
        "    logits = model.apply(params, images, rngs={'dropout' : dropout_rng}, train=True)\n",
        "    return cross_entropy(logits=logits, labels=labels)\n",
        "\n",
        "def compute_metrics(*, logits, labels):\n",
        "    \"\"\"\n",
        "    Compute metrics of the model during training.\n",
        "    \n",
        "    Returns the loss and the accuracy.\n",
        "    \"\"\"\n",
        "    loss = cross_entropy(logits=logits, labels=labels)\n",
        "    accuracy = jnp.mean(jnp.argmax(logits, -1) == labels)\n",
        "    metrics = {\n",
        "      'loss': loss,\n",
        "      'accuracy': accuracy,\n",
        "    }\n",
        "    return metrics"
      ]
    },
    {
      "cell_type": "markdown",
      "id": "ff0ff54a-3d6a-42e7-bdf3-23a9b0d899fd",
      "metadata": {
        "id": "ff0ff54a-3d6a-42e7-bdf3-23a9b0d899fd"
      },
      "source": [
        "## Create the setup and training loop\n"
      ]
    },
    {
      "cell_type": "code",
      "execution_count": null,
      "id": "50082ccb-9022-496a-8898-f2b645116347",
      "metadata": {
        "id": "50082ccb-9022-496a-8898-f2b645116347"
      },
      "outputs": [],
      "source": [
        "def create_train_state(rng, optimiser, dropout_rng):\n",
        "    \"\"\"Creates initial `TrainState`, holding the current parameters, state of the\n",
        "    optimiser and other metadata.\n",
        "    \"\"\"\n",
        "    # Construct the model parameters\n",
        "    params = model.init({'params' : rng, 'dropout' : dropout_rng}, jnp.ones([1, 28, 28, 1]), train=True)\n",
        "        \n",
        "    # Package all those informations in the model state\n",
        "    return train_state.TrainState.create(\n",
        "        apply_fn=model.apply, params=params, tx=optimiser)\n"
      ]
    },
    {
      "cell_type": "code",
      "execution_count": null,
      "id": "4d0ec7de-f082-4276-96e6-86c59712ba69",
      "metadata": {
        "id": "4d0ec7de-f082-4276-96e6-86c59712ba69"
      },
      "outputs": [],
      "source": [
        "@jax.jit\n",
        "def eval_metrics(params, batch, dropout_rng):\n",
        "    \"\"\"\n",
        "    This function evaluates the metrics without training the model.\n",
        "    \n",
        "    Used to check the performance of the network on training and test datasets.\n",
        "    \"\"\"\n",
        "    logits = model.apply(params, batch['image'], rngs={'dropout' : dropout_rng}, train=False)\n",
        "    return compute_metrics(logits=logits, labels=batch['label'])"
      ]
    },
    {
      "cell_type": "code",
      "execution_count": null,
      "id": "f7vd-CLwvZvJ",
      "metadata": {
        "id": "f7vd-CLwvZvJ"
      },
      "outputs": [],
      "source": [
        "def loss_fn2(images, params, dropout_rng, labels):\n",
        "    \"\"\"\n",
        "    Loss function minimised during training of the model.\n",
        "    \"\"\"\n",
        "    logits = model.apply(params, images, rngs={'dropout' : dropout_rng}, train=True)\n",
        "    return cross_entropy(logits=logits, labels=labels)\n"
      ]
    },
    {
      "cell_type": "code",
      "execution_count": null,
      "id": "5f6b6254-da8a-4bd5-ad56-15b13a3c2bd2",
      "metadata": {
        "id": "5f6b6254-da8a-4bd5-ad56-15b13a3c2bd2"
      },
      "outputs": [],
      "source": [
        "@jax.jit\n",
        "def train_step(state, batch, dropout_rng):\n",
        "    \"\"\"\n",
        "    Train for a single step.\n",
        "    \n",
        "    \"\"\"\n",
        "    #Make parameters the only 'free' parameter\n",
        "    _loss_fn = partial(loss_fn, dropout_rng = dropout_rng, images=batch['image'], labels=batch['label'])\n",
        "    # construct the function returning the loss value and gradient.\n",
        "    val_grad_fn = jax.value_and_grad(_loss_fn)\n",
        "    # compute loss and gradient\n",
        "    loss, grads = val_grad_fn(state.params)\n",
        "    grads = jax.tree_map(lambda x: x.conj(), grads) \n",
        "    # update the state parameters \n",
        "    state = state.apply_gradients(grads=grads)\n",
        "\n",
        "    #compute the norms of the grads\n",
        "    g_tot_im = 0\n",
        "    g_tot_re = 0\n",
        "    g_tot_diff = 0 \n",
        "    for k in grads['params'].keys():\n",
        "      for sub_k in grads['params'][k]:\n",
        "        g_tot_re += (grads['params'][k][sub_k].real**2).sum()\n",
        "        g_tot_im += (grads['params'][k][sub_k].imag**2).sum() \n",
        "        g_tot_diff += ((grads['params'][k][sub_k].real - grads['params'][k][sub_k].imag)**2).sum()\n",
        "\n",
        "    w_tot_im = 0\n",
        "    w_tot_re = 0\n",
        "    w_tot_diff = 0 \n",
        "    for k in state.params['params'].keys():\n",
        "      for sub_k in state.params['params'][k]:\n",
        "        w_tot_re += (state.params['params'][k][sub_k].real**2).sum()\n",
        "        w_tot_im += (state.params['params'][k][sub_k].imag**2).sum() \n",
        "        w_tot_diff += ((state.params['params'][k][sub_k].real - state.params['params'][k][sub_k].imag)**2).sum()\n",
        "\n",
        "    \n",
        "    metrics = eval_metrics(state.params, batch, dropout_rng)\n",
        "\n",
        "    #save the norm of the grads\n",
        "    metrics['grad_re'] = g_tot_re\n",
        "    metrics['grad_im'] = g_tot_im\n",
        "    metrics['grad_reimdiff'] = g_tot_diff\n",
        "\n",
        "    metrics['weight_re'] = w_tot_re\n",
        "    metrics['weight_im'] = w_tot_im\n",
        "    metrics['weight_reimdiff'] = w_tot_diff\n",
        "\n",
        "    return state, metrics"
      ]
    },
    {
      "cell_type": "code",
      "execution_count": null,
      "id": "e2f17cf0-198d-4d57-88d9-de60e6e76492",
      "metadata": {
        "id": "e2f17cf0-198d-4d57-88d9-de60e6e76492"
      },
      "outputs": [],
      "source": [
        "def train_epoch(state, train_ds, batch_size, epoch, rng, dropout_rng, *, max_steps=None):\n",
        "    \"\"\"Train for a single `epoch`.\n",
        "    \n",
        "    And epoch is composed of several steps, where every step is taken by updating\n",
        "    the network parameters with a small mini-batch.\n",
        "    \"\"\"\n",
        "    \n",
        "    # total number of training images\n",
        "    train_ds_size = len(train_ds['image'])\n",
        "    \n",
        "    # Compute how many steps are present in this epoch.\n",
        "    steps_per_epoch = train_ds_size // batch_size\n",
        "\n",
        "    # Truncate the number of steps\n",
        "    if max_steps is not None:\n",
        "        steps_per_epoch = min(steps_per_epoch, max_steps)\n",
        "\n",
        "    # generate a random permutation of the indices to shuffle the training\n",
        "    perms = jax.random.permutation(rng, train_ds_size)\n",
        "    perms = perms[:steps_per_epoch * batch_size]\n",
        "    perms = perms.reshape((steps_per_epoch, batch_size))\n",
        "    \n",
        "    # execute the training step for every mini-batch\n",
        "    batch_metrics = []\n",
        "    for perm in perms:\n",
        "        batch = {k: v[perm, ...] for k, v in train_ds.items()}\n",
        "        state, metrics = train_step(state, batch, dropout_rng)\n",
        "        batch_metrics.append(metrics)\n",
        "\n",
        "    # compute mean of metrics across each batch in epoch.\n",
        "    batch_metrics_np = jax.device_get(batch_metrics)\n",
        "    epoch_metrics_np = {\n",
        "        k: np.mean([metrics[k] for metrics in batch_metrics_np])\n",
        "            for k in batch_metrics_np[0]}\n",
        "\n",
        "\n",
        "\n",
        "    return state, epoch_metrics_np\n",
        "\n",
        "\n",
        "def evaluate_model(params, test_ds, dropout_rng):\n",
        "    \"\"\"\n",
        "    evaluate the performance of the model on the test dataset\n",
        "    \"\"\"\n",
        "    metrics = eval_metrics(params, test_ds, dropout_rng)\n",
        "    metrics = jax.device_get(metrics)\n",
        "    summary = jax.tree_map(lambda x: x.item(), metrics)\n",
        "    return summary['loss'], summary['accuracy']"
      ]
    },
    {
      "cell_type": "markdown",
      "id": "ed1db647-2349-46d8-8f6f-8bebedf73872",
      "metadata": {
        "id": "ed1db647-2349-46d8-8f6f-8bebedf73872"
      },
      "source": [
        "# Training model"
      ]
    },
    {
      "cell_type": "code",
      "execution_count": null,
      "id": "Kt9_4l9OB90m",
      "metadata": {
        "id": "Kt9_4l9OB90m"
      },
      "outputs": [],
      "source": [
        "# Definition of optimiser HyperParameters\n",
        "learning_rate = 0.0005\n",
        "momentum = 0.9\n",
        "optimiser = optax.sgd(learning_rate, momentum)\n",
        "#optimiser = nk.optimizer.Adam(learning_rate)\n",
        "num_epochs = 20\n",
        "batch_size = 32\n",
        "max_steps = 200\n",
        "\n",
        "#define rngs\n",
        "seed = 123\n",
        "seed_dropout = 0\n",
        "key = {'params': jax.random.PRNGKey(seed), 'dropout': jax.random.PRNGKey(seed_dropout)}\n",
        "\n",
        "#init model\n",
        "model = Model(n_classes=10)\n",
        "sample_input = jnp.ones([1, 28, 28, 1])\n",
        "pars = model.init(key, sample_input, train=True)\n",
        "\n",
        "# Split the rng to get two keys, one to 'shuffle' the dataset at every iteration,\n",
        "# and one to initialise the network\n",
        "rng, init_rng = jax.random.split(jax.random.PRNGKey(0))\n",
        "\n",
        "state = create_train_state(init_rng, optimiser, init_dropout)\n"
      ]
    },
    {
      "cell_type": "code",
      "execution_count": null,
      "id": "d1123ddd-9083-4122-b47d-07513797aad3",
      "metadata": {
        "colab": {
          "base_uri": "https://localhost:8080/",
          "height": 743,
          "referenced_widgets": [
            "857ffa2a6ec14de293e1bd5ae6b87657",
            "1a3e5a1817194ed0841b3e75ab0172fc",
            "e0d3140144fb4a2493de50f58e81a133",
            "8812138caaf14111b591f612616364b5",
            "a9c154ec1f4842b1b762992a0775c3ce",
            "0057761ba8344acf90911624763462a5",
            "83be66197f6f49229ad60d171056ed0a",
            "74d26c4f476a4efe855151f01e1622e5",
            "a26e54d2e28a499d86f36837631f5800",
            "25f1a9b97cb3406f93337db26a160fed",
            "2bf857eca8c9465e8d2654acc0f3c299"
          ]
        },
        "id": "d1123ddd-9083-4122-b47d-07513797aad3",
        "outputId": "fddafb99-65e4-4a55-f660-78918ac2142b"
      },
      "outputs": [
        {
          "data": {
            "application/vnd.jupyter.widget-view+json": {
              "model_id": "857ffa2a6ec14de293e1bd5ae6b87657",
              "version_major": 2,
              "version_minor": 0
            },
            "text/plain": [
              "  0%|          | 0/20 [00:00<?, ?it/s]"
            ]
          },
          "metadata": {},
          "output_type": "display_data"
        },
        {
          "name": "stdout",
          "output_type": "stream",
          "text": [
            "train epoch: 1, loss: 0.7428, accuracy: 81.36\n",
            " test epoch: 1, loss: 0.29, accuracy: 91.73\n",
            "train epoch: 2, loss: 0.2587, accuracy: 92.19\n",
            " test epoch: 2, loss: 0.21, accuracy: 93.80\n",
            "train epoch: 3, loss: 0.1974, accuracy: 94.19\n",
            " test epoch: 3, loss: 0.16, accuracy: 95.41\n",
            "train epoch: 4, loss: 0.1586, accuracy: 95.43\n",
            " test epoch: 4, loss: 0.14, accuracy: 95.92\n",
            "train epoch: 5, loss: 0.1313, accuracy: 96.17\n",
            " test epoch: 5, loss: 0.11, accuracy: 96.64\n",
            "train epoch: 6, loss: 0.1139, accuracy: 96.65\n",
            " test epoch: 6, loss: 0.10, accuracy: 97.05\n",
            "train epoch: 7, loss: 0.0990, accuracy: 97.11\n",
            " test epoch: 7, loss: 0.09, accuracy: 97.26\n",
            "train epoch: 8, loss: 0.0890, accuracy: 97.36\n",
            " test epoch: 8, loss: 0.08, accuracy: 97.63\n",
            "train epoch: 9, loss: 0.0806, accuracy: 97.58\n",
            " test epoch: 9, loss: 0.07, accuracy: 97.88\n",
            "train epoch: 10, loss: 0.0739, accuracy: 97.80\n",
            " test epoch: 10, loss: 0.07, accuracy: 98.00\n",
            "train epoch: 11, loss: 0.0680, accuracy: 97.95\n",
            " test epoch: 11, loss: 0.06, accuracy: 98.10\n",
            "train epoch: 12, loss: 0.0634, accuracy: 98.08\n",
            " test epoch: 12, loss: 0.06, accuracy: 98.19\n",
            "train epoch: 13, loss: 0.0584, accuracy: 98.27\n",
            " test epoch: 13, loss: 0.05, accuracy: 98.26\n",
            "train epoch: 14, loss: 0.0557, accuracy: 98.29\n",
            " test epoch: 14, loss: 0.05, accuracy: 98.33\n",
            "train epoch: 15, loss: 0.0524, accuracy: 98.41\n",
            " test epoch: 15, loss: 0.05, accuracy: 98.46\n",
            "train epoch: 16, loss: 0.0496, accuracy: 98.48\n",
            " test epoch: 16, loss: 0.05, accuracy: 98.43\n",
            "train epoch: 17, loss: 0.0466, accuracy: 98.59\n",
            " test epoch: 17, loss: 0.05, accuracy: 98.41\n",
            "train epoch: 18, loss: 0.0452, accuracy: 98.60\n",
            " test epoch: 18, loss: 0.04, accuracy: 98.55\n",
            "train epoch: 19, loss: 0.0433, accuracy: 98.65\n",
            " test epoch: 19, loss: 0.04, accuracy: 98.52\n",
            "train epoch: 20, loss: 0.0415, accuracy: 98.72\n",
            " test epoch: 20, loss: 0.04, accuracy: 98.64\n"
          ]
        }
      ],
      "source": [
        "metrics = {\"test_loss\" : [], \n",
        "           \"test_accuracy\": [], \n",
        "           \"train_loss\":[], \n",
        "           \"train_accuracy\":[],\n",
        "           \"grad_re\":[],\n",
        "           \"grad_im\":[],\n",
        "           \"grad_reimdiff\":[],\n",
        "           \"weight_re\":[],\n",
        "           \"weight_im\":[],\n",
        "           \"weight_reimdiff\":[],\n",
        "}\n",
        "with tqdm(range(1, num_epochs + 1)) as pbar:\n",
        "    for epoch in pbar:\n",
        "        # Use a separate PRNG key to permute image data during shuffling\n",
        "        rng, input_rng = jax.random.split(rng)\n",
        "        dropout_rng, _ = jax.random.split(dropout_rng)\n",
        "        # Run an optimization step over a training batch\n",
        "        state, train_metrics = train_epoch(state, train_ds, batch_size, epoch, input_rng, dropout_rng)\n",
        "        \n",
        "        # Evaluate on the test set after each training epoch\n",
        "        test_loss, test_accuracy = evaluate_model(state.params, test_ds, dropout_rng)\n",
        "        pbar.write('train epoch: %d, loss: %.4f, accuracy: %.2f' % (epoch, train_metrics['loss'], train_metrics['accuracy'] * 100))\n",
        "        pbar.write(' test epoch: %d, loss: %.2f, accuracy: %.2f' % (epoch, test_loss, test_accuracy * 100))\n",
        "\n",
        "        # save data\n",
        "        metrics[\"train_loss\"].append(train_metrics[\"loss\"])\n",
        "        metrics[\"train_accuracy\"].append(train_metrics[\"accuracy\"])\n",
        "        metrics['grad_re'].append(train_metrics['grad_re'])\n",
        "        metrics['grad_im'].append(train_metrics['grad_im'])\n",
        "        metrics['grad_reimdiff'].append(train_metrics['grad_reimdiff'])\n",
        "        metrics['weight_re'].append(train_metrics['weight_re'])\n",
        "        metrics['weight_im'].append(train_metrics['weight_im'])\n",
        "        metrics['weight_reimdiff'].append(train_metrics['weight_reimdiff'])\n",
        "        metrics[\"test_loss\"].append(test_loss)\n",
        "        metrics[\"test_accuracy\"].append(test_accuracy)\n"
      ]
    },
    {
      "cell_type": "code",
      "execution_count": null,
      "id": "sR0KHvueMKlC",
      "metadata": {
        "colab": {
          "base_uri": "https://localhost:8080/"
        },
        "id": "sR0KHvueMKlC",
        "outputId": "0233e1a5-4ca9-48e3-f974-a4c8c2ffb248"
      },
      "outputs": [
        {
          "data": {
            "text/plain": [
              "20"
            ]
          },
          "execution_count": 29,
          "metadata": {},
          "output_type": "execute_result"
        }
      ],
      "source": [
        "len(metrics['grad_re'])"
      ]
    },
    {
      "cell_type": "code",
      "execution_count": null,
      "id": "S_7lr7XPw1sc",
      "metadata": {
        "colab": {
          "base_uri": "https://localhost:8080/",
          "height": 279
        },
        "id": "S_7lr7XPw1sc",
        "outputId": "2271a082-367f-4090-8f1f-84cbd2d738cd"
      },
      "outputs": [
        {
          "data": {
            "image/png": "[encoded data removed]",
            "text/plain": [
              "<Figure size 432x288 with 1 Axes>"
            ]
          },
          "metadata": {
            "needs_background": "light"
          },
          "output_type": "display_data"
        }
      ],
      "source": [
        "epochs = [i for i in range(20)]\n",
        "plt.plot(epochs, metrics['weight_re'], \"*-\", c='red', label='norm(RE(grad))^2')\n",
        "plt.plot(epochs, metrics['weight_im'], \"*-\", c='blue', label='norm(IM(grad))^2')\n",
        "plt.xlabel('Epoch')\n",
        "plt.ylabel('Norm^2')\n",
        "_ = plt.legend()"
      ]
    },
    {
      "cell_type": "code",
      "execution_count": null,
      "id": "3wRoCmtww3kG",
      "metadata": {
        "colab": {
          "base_uri": "https://localhost:8080/",
          "height": 279
        },
        "id": "3wRoCmtww3kG",
        "outputId": "677dab88-4c2a-4e90-b784-f4bd2f9ba596"
      },
      "outputs": [
        {
          "data": {
            "image/png": "[encoded data removed]",
            "text/plain": [
              "<Figure size 432x288 with 1 Axes>"
            ]
          },
          "metadata": {
            "needs_background": "light"
          },
          "output_type": "display_data"
        }
      ],
      "source": [
        "metrics['weight_re'] =  np.array(metrics['weight_re'])\n",
        "metrics['weight_im'] =  np.array(metrics['weight_im'])\n",
        "metrics['weight_reimdiff'] =  np.array(metrics['weight_reimdiff'])\n",
        "\n",
        "plt.plot(epochs, 2*metrics['weight_reimdiff']/(metrics['weight_re'] + metrics['weight_im']) , \"*-\", c='green', label='norm((IM - RE)(grad))^2')\n",
        "plt.xlabel('Epoch')\n",
        "plt.ylabel('Norm^2')\n",
        "_ = plt.legend()"
      ]
    },
    {
      "cell_type": "code",
      "execution_count": null,
      "id": "p0TG7moWLglj",
      "metadata": {
        "colab": {
          "base_uri": "https://localhost:8080/",
          "height": 279
        },
        "id": "p0TG7moWLglj",
        "outputId": "c1e10337-d773-46c8-8f79-593006b9d331"
      },
      "outputs": [
        {
          "data": {
            "image/png": "[encoded data removed]",
            "text/plain": [
              "<Figure size 432x288 with 1 Axes>"
            ]
          },
          "metadata": {
            "needs_background": "light"
          },
          "output_type": "display_data"
        }
      ],
      "source": [
        "epochs = [i for i in range(20)]\n",
        "plt.plot(epochs, metrics['grad_re'], \"*-\", c='red', label='norm(RE(grad))^2')\n",
        "plt.plot(epochs, metrics['grad_im'], \"*-\", c='blue', label='norm(IM(grad))^2')\n",
        "plt.xlabel('Epoch')\n",
        "plt.ylabel('Norm^2')\n",
        "_ = plt.legend()"
      ]
    },
    {
      "cell_type": "code",
      "execution_count": null,
      "id": "OboR6MEhNds_",
      "metadata": {
        "colab": {
          "base_uri": "https://localhost:8080/",
          "height": 281
        },
        "id": "OboR6MEhNds_",
        "outputId": "f347148b-bc29-4a7b-fa30-834f2300872f"
      },
      "outputs": [
        {
          "data": {
            "image/png": "[encoded data removed]",
            "text/plain": [
              "<Figure size 432x288 with 1 Axes>"
            ]
          },
          "metadata": {
            "needs_background": "light"
          },
          "output_type": "display_data"
        }
      ],
      "source": [
        "metrics['grad_re'] =  np.array(metrics['grad_re'])\n",
        "metrics['grad_im'] =  np.array(metrics['grad_im'])\n",
        "metrics['grad_reimdiff'] =  np.array(metrics['grad_reimdiff'])\n",
        "\n",
        "plt.plot(epochs, 2*metrics['grad_reimdiff']/(metrics['grad_re'] + metrics['grad_im']) , \"*-\", c='green', label='norm((IM - RE)(grad))^2')\n",
        "plt.xlabel('Epoch')\n",
        "plt.ylabel('Norm^2')\n",
        "_ = plt.legend()"
      ]
    },
    {
      "cell_type": "code",
      "execution_count": null,
      "id": "aefca0cb-80ed-43df-84de-1b4073a84d54",
      "metadata": {
        "colab": {
          "base_uri": "https://localhost:8080/",
          "height": 242
        },
        "id": "aefca0cb-80ed-43df-84de-1b4073a84d54",
        "outputId": "03413125-86df-4c79-a8c3-a628e24ab1a2"
      },
      "outputs": [
        {
          "data": {
            "text/plain": [
              "Text(0, 0.5, 'Accuracy')"
            ]
          },
          "execution_count": 37,
          "metadata": {},
          "output_type": "execute_result"
        },
        {
          "data": {
            "image/png": "[encoded data removed]",
            "text/plain": [
              "<Figure size 864x216 with 2 Axes>"
            ]
          },
          "metadata": {
            "needs_background": "light"
          },
          "output_type": "display_data"
        }
      ],
      "source": [
        "#visualize losses\n",
        "fig, axs = plt.subplots(1,2, figsize=(12,3))\n",
        "axs[0].plot(metrics[\"train_loss\"], label=\"train\")\n",
        "axs[0].plot(metrics[\"test_loss\"], label=\"test\")\n",
        "axs[0].legend()\n",
        "axs[0].set_xlabel(\"Epoch #\")\n",
        "axs[0].set_ylabel(\"Loss\")\n",
        "\n",
        "\n",
        "axs[1].plot(metrics[\"train_accuracy\"], label=\"train\")\n",
        "axs[1].plot(metrics[\"test_accuracy\"], label=\"test\")\n",
        "axs[1].legend()\n",
        "axs[1].set_xlabel(\"Epoch #\")\n",
        "axs[1].set_ylabel(\"Accuracy\")"
      ]
    }
  ],
  "metadata": {
    "accelerator": "GPU",
    "colab": {
      "collapsed_sections": [],
      "name": "NormsGradsNon-RobustComplexAverages.ipynb",
      "provenance": []
    },
    "kernelspec": {
      "display_name": "Python (ML Teaching)",
      "language": "python",
      "name": "teach-ml"
    },
    "language_info": {
      "codemirror_mode": {
        "name": "ipython",
        "version": 3
      },
      "file_extension": ".py",
      "mimetype": "text/x-python",
      "name": "python",
      "nbconvert_exporter": "python",
      "pygments_lexer": "ipython3",
      "version": "3.9.6"
    },
    "widgets": {
      "application/vnd.jupyter.widget-state+json": {
        "0057761ba8344acf90911624763462a5": {
          "model_module": "@jupyter-widgets/controls",
          "model_module_version": "1.5.0",
          "model_name": "DescriptionStyleModel",
          "state": {
            "_model_module": "@jupyter-widgets/controls",
            "_model_module_version": "1.5.0",
            "_model_name": "DescriptionStyleModel",
            "_view_count": null,
            "_view_module": "@jupyter-widgets/base",
            "_view_module_version": "1.2.0",
            "_view_name": "StyleView",
            "description_width": ""
          }
        },
        "0686dc5f30974a56b12f3493dd71521f": {
          "model_module": "@jupyter-widgets/base",
          "model_module_version": "1.2.0",
          "model_name": "LayoutModel",
          "state": {
            "_model_module": "@jupyter-widgets/base",
            "_model_module_version": "1.2.0",
            "_model_name": "LayoutModel",
            "_view_count": null,
            "_view_module": "@jupyter-widgets/base",
            "_view_module_version": "1.2.0",
            "_view_name": "LayoutView",
            "align_content": null,
            "align_items": null,
            "align_self": null,
            "border": null,
            "bottom": null,
            "display": null,
            "flex": null,
            "flex_flow": null,
            "grid_area": null,
            "grid_auto_columns": null,
            "grid_auto_flow": null,
            "grid_auto_rows": null,
            "grid_column": null,
            "grid_gap": null,
            "grid_row": null,
            "grid_template_areas": null,
            "grid_template_columns": null,
            "grid_template_rows": null,
            "height": null,
            "justify_content": null,
            "justify_items": null,
            "left": null,
            "margin": null,
            "max_height": null,
            "max_width": null,
            "min_height": null,
            "min_width": null,
            "object_fit": null,
            "object_position": null,
            "order": null,
            "overflow": null,
            "overflow_x": null,
            "overflow_y": null,
            "padding": null,
            "right": null,
            "top": null,
            "visibility": null,
            "width": null
          }
        },
        "1a3e5a1817194ed0841b3e75ab0172fc": {
          "model_module": "@jupyter-widgets/base",
          "model_module_version": "1.2.0",
          "model_name": "LayoutModel",
          "state": {
            "_model_module": "@jupyter-widgets/base",
            "_model_module_version": "1.2.0",
            "_model_name": "LayoutModel",
            "_view_count": null,
            "_view_module": "@jupyter-widgets/base",
            "_view_module_version": "1.2.0",
            "_view_name": "LayoutView",
            "align_content": null,
            "align_items": null,
            "align_self": null,
            "border": null,
            "bottom": null,
            "display": null,
            "flex": null,
            "flex_flow": null,
            "grid_area": null,
            "grid_auto_columns": null,
            "grid_auto_flow": null,
            "grid_auto_rows": null,
            "grid_column": null,
            "grid_gap": null,
            "grid_row": null,
            "grid_template_areas": null,
            "grid_template_columns": null,
            "grid_template_rows": null,
            "height": null,
            "justify_content": null,
            "justify_items": null,
            "left": null,
            "margin": null,
            "max_height": null,
            "max_width": null,
            "min_height": null,
            "min_width": null,
            "object_fit": null,
            "object_position": null,
            "order": null,
            "overflow": null,
            "overflow_x": null,
            "overflow_y": null,
            "padding": null,
            "right": null,
            "top": null,
            "visibility": null,
            "width": null
          }
        },
        "1e459b6735644e22b81ff9ad4a6968c7": {
          "model_module": "@jupyter-widgets/controls",
          "model_module_version": "1.5.0",
          "model_name": "DescriptionStyleModel",
          "state": {
            "_model_module": "@jupyter-widgets/controls",
            "_model_module_version": "1.5.0",
            "_model_name": "DescriptionStyleModel",
            "_view_count": null,
            "_view_module": "@jupyter-widgets/base",
            "_view_module_version": "1.2.0",
            "_view_name": "StyleView",
            "description_width": ""
          }
        },
        "25f1a9b97cb3406f93337db26a160fed": {
          "model_module": "@jupyter-widgets/controls",
          "model_module_version": "1.5.0",
          "model_name": "DescriptionStyleModel",
          "state": {
            "_model_module": "@jupyter-widgets/controls",
            "_model_module_version": "1.5.0",
            "_model_name": "DescriptionStyleModel",
            "_view_count": null,
            "_view_module": "@jupyter-widgets/base",
            "_view_module_version": "1.2.0",
            "_view_name": "StyleView",
            "description_width": ""
          }
        },
        "2bf857eca8c9465e8d2654acc0f3c299": {
          "model_module": "@jupyter-widgets/base",
          "model_module_version": "1.2.0",
          "model_name": "LayoutModel",
          "state": {
            "_model_module": "@jupyter-widgets/base",
            "_model_module_version": "1.2.0",
            "_model_name": "LayoutModel",
            "_view_count": null,
            "_view_module": "@jupyter-widgets/base",
            "_view_module_version": "1.2.0",
            "_view_name": "LayoutView",
            "align_content": null,
            "align_items": null,
            "align_self": null,
            "border": null,
            "bottom": null,
            "display": null,
            "flex": null,
            "flex_flow": null,
            "grid_area": null,
            "grid_auto_columns": null,
            "grid_auto_flow": null,
            "grid_auto_rows": null,
            "grid_column": null,
            "grid_gap": null,
            "grid_row": null,
            "grid_template_areas": null,
            "grid_template_columns": null,
            "grid_template_rows": null,
            "height": null,
            "justify_content": null,
            "justify_items": null,
            "left": null,
            "margin": null,
            "max_height": null,
            "max_width": null,
            "min_height": null,
            "min_width": null,
            "object_fit": null,
            "object_position": null,
            "order": null,
            "overflow": null,
            "overflow_x": null,
            "overflow_y": null,
            "padding": null,
            "right": null,
            "top": null,
            "visibility": null,
            "width": null
          }
        },
        "6b7b64d0e68047dd9e1b8e9caa037cb6": {
          "model_module": "@jupyter-widgets/controls",
          "model_module_version": "1.5.0",
          "model_name": "ProgressStyleModel",
          "state": {
            "_model_module": "@jupyter-widgets/controls",
            "_model_module_version": "1.5.0",
            "_model_name": "ProgressStyleModel",
            "_view_count": null,
            "_view_module": "@jupyter-widgets/base",
            "_view_module_version": "1.2.0",
            "_view_name": "StyleView",
            "bar_color": null,
            "description_width": ""
          }
        },
        "74d26c4f476a4efe855151f01e1622e5": {
          "model_module": "@jupyter-widgets/controls",
          "model_module_version": "1.5.0",
          "model_name": "ProgressStyleModel",
          "state": {
            "_model_module": "@jupyter-widgets/controls",
            "_model_module_version": "1.5.0",
            "_model_name": "ProgressStyleModel",
            "_view_count": null,
            "_view_module": "@jupyter-widgets/base",
            "_view_module_version": "1.2.0",
            "_view_name": "StyleView",
            "bar_color": null,
            "description_width": ""
          }
        },
        "83be66197f6f49229ad60d171056ed0a": {
          "model_module": "@jupyter-widgets/base",
          "model_module_version": "1.2.0",
          "model_name": "LayoutModel",
          "state": {
            "_model_module": "@jupyter-widgets/base",
            "_model_module_version": "1.2.0",
            "_model_name": "LayoutModel",
            "_view_count": null,
            "_view_module": "@jupyter-widgets/base",
            "_view_module_version": "1.2.0",
            "_view_name": "LayoutView",
            "align_content": null,
            "align_items": null,
            "align_self": null,
            "border": null,
            "bottom": null,
            "display": null,
            "flex": null,
            "flex_flow": null,
            "grid_area": null,
            "grid_auto_columns": null,
            "grid_auto_flow": null,
            "grid_auto_rows": null,
            "grid_column": null,
            "grid_gap": null,
            "grid_row": null,
            "grid_template_areas": null,
            "grid_template_columns": null,
            "grid_template_rows": null,
            "height": null,
            "justify_content": null,
            "justify_items": null,
            "left": null,
            "margin": null,
            "max_height": null,
            "max_width": null,
            "min_height": null,
            "min_width": null,
            "object_fit": null,
            "object_position": null,
            "order": null,
            "overflow": null,
            "overflow_x": null,
            "overflow_y": null,
            "padding": null,
            "right": null,
            "top": null,
            "visibility": null,
            "width": null
          }
        },
        "857ffa2a6ec14de293e1bd5ae6b87657": {
          "model_module": "@jupyter-widgets/controls",
          "model_module_version": "1.5.0",
          "model_name": "HBoxModel",
          "state": {
            "_dom_classes": [],
            "_model_module": "@jupyter-widgets/controls",
            "_model_module_version": "1.5.0",
            "_model_name": "HBoxModel",
            "_view_count": null,
            "_view_module": "@jupyter-widgets/controls",
            "_view_module_version": "1.5.0",
            "_view_name": "HBoxView",
            "box_style": "",
            "children": [
              "IPY_MODEL_e0d3140144fb4a2493de50f58e81a133",
              "IPY_MODEL_8812138caaf14111b591f612616364b5",
              "IPY_MODEL_a9c154ec1f4842b1b762992a0775c3ce"
            ],
            "layout": "IPY_MODEL_1a3e5a1817194ed0841b3e75ab0172fc"
          }
        },
        "8812138caaf14111b591f612616364b5": {
          "model_module": "@jupyter-widgets/controls",
          "model_module_version": "1.5.0",
          "model_name": "FloatProgressModel",
          "state": {
            "_dom_classes": [],
            "_model_module": "@jupyter-widgets/controls",
            "_model_module_version": "1.5.0",
            "_model_name": "FloatProgressModel",
            "_view_count": null,
            "_view_module": "@jupyter-widgets/controls",
            "_view_module_version": "1.5.0",
            "_view_name": "ProgressView",
            "bar_style": "success",
            "description": "",
            "description_tooltip": null,
            "layout": "IPY_MODEL_a26e54d2e28a499d86f36837631f5800",
            "max": 20,
            "min": 0,
            "orientation": "horizontal",
            "style": "IPY_MODEL_74d26c4f476a4efe855151f01e1622e5",
            "value": 20
          }
        },
        "8eabb0f4b64a482685484b77497e22a1": {
          "model_module": "@jupyter-widgets/controls",
          "model_module_version": "1.5.0",
          "model_name": "FloatProgressModel",
          "state": {
            "_dom_classes": [],
            "_model_module": "@jupyter-widgets/controls",
            "_model_module_version": "1.5.0",
            "_model_name": "FloatProgressModel",
            "_view_count": null,
            "_view_module": "@jupyter-widgets/controls",
            "_view_module_version": "1.5.0",
            "_view_name": "ProgressView",
            "bar_style": "success",
            "description": "",
            "description_tooltip": null,
            "layout": "IPY_MODEL_d435ca24bb894e6492aaeef0502ddbfa",
            "max": 4,
            "min": 0,
            "orientation": "horizontal",
            "style": "IPY_MODEL_6b7b64d0e68047dd9e1b8e9caa037cb6",
            "value": 4
          }
        },
        "8ff514412b4d491e81fcd83f968b66c8": {
          "model_module": "@jupyter-widgets/controls",
          "model_module_version": "1.5.0",
          "model_name": "HBoxModel",
          "state": {
            "_dom_classes": [],
            "_model_module": "@jupyter-widgets/controls",
            "_model_module_version": "1.5.0",
            "_model_name": "HBoxModel",
            "_view_count": null,
            "_view_module": "@jupyter-widgets/controls",
            "_view_module_version": "1.5.0",
            "_view_name": "HBoxView",
            "box_style": "",
            "children": [
              "IPY_MODEL_d43f4da5a6064e2f94e167e2f0b4cae1",
              "IPY_MODEL_8eabb0f4b64a482685484b77497e22a1",
              "IPY_MODEL_a86c5ff5f77147159f200f5815ee6559"
            ],
            "layout": "IPY_MODEL_0686dc5f30974a56b12f3493dd71521f"
          }
        },
        "a26e54d2e28a499d86f36837631f5800": {
          "model_module": "@jupyter-widgets/base",
          "model_module_version": "1.2.0",
          "model_name": "LayoutModel",
          "state": {
            "_model_module": "@jupyter-widgets/base",
            "_model_module_version": "1.2.0",
            "_model_name": "LayoutModel",
            "_view_count": null,
            "_view_module": "@jupyter-widgets/base",
            "_view_module_version": "1.2.0",
            "_view_name": "LayoutView",
            "align_content": null,
            "align_items": null,
            "align_self": null,
            "border": null,
            "bottom": null,
            "display": null,
            "flex": null,
            "flex_flow": null,
            "grid_area": null,
            "grid_auto_columns": null,
            "grid_auto_flow": null,
            "grid_auto_rows": null,
            "grid_column": null,
            "grid_gap": null,
            "grid_row": null,
            "grid_template_areas": null,
            "grid_template_columns": null,
            "grid_template_rows": null,
            "height": null,
            "justify_content": null,
            "justify_items": null,
            "left": null,
            "margin": null,
            "max_height": null,
            "max_width": null,
            "min_height": null,
            "min_width": null,
            "object_fit": null,
            "object_position": null,
            "order": null,
            "overflow": null,
            "overflow_x": null,
            "overflow_y": null,
            "padding": null,
            "right": null,
            "top": null,
            "visibility": null,
            "width": null
          }
        },
        "a86c5ff5f77147159f200f5815ee6559": {
          "model_module": "@jupyter-widgets/controls",
          "model_module_version": "1.5.0",
          "model_name": "HTMLModel",
          "state": {
            "_dom_classes": [],
            "_model_module": "@jupyter-widgets/controls",
            "_model_module_version": "1.5.0",
            "_model_name": "HTMLModel",
            "_view_count": null,
            "_view_module": "@jupyter-widgets/controls",
            "_view_module_version": "1.5.0",
            "_view_name": "HTMLView",
            "description": "",
            "description_tooltip": null,
            "layout": "IPY_MODEL_e3a6492eca994860b5bf4dd81298cd78",
            "placeholder": "​",
            "style": "IPY_MODEL_1e459b6735644e22b81ff9ad4a6968c7",
            "value": " 4/4 [00:00&lt;00:00,  4.60 file/s]"
          }
        },
        "a9c154ec1f4842b1b762992a0775c3ce": {
          "model_module": "@jupyter-widgets/controls",
          "model_module_version": "1.5.0",
          "model_name": "HTMLModel",
          "state": {
            "_dom_classes": [],
            "_model_module": "@jupyter-widgets/controls",
            "_model_module_version": "1.5.0",
            "_model_name": "HTMLModel",
            "_view_count": null,
            "_view_module": "@jupyter-widgets/controls",
            "_view_module_version": "1.5.0",
            "_view_name": "HTMLView",
            "description": "",
            "description_tooltip": null,
            "layout": "IPY_MODEL_2bf857eca8c9465e8d2654acc0f3c299",
            "placeholder": "​",
            "style": "IPY_MODEL_25f1a9b97cb3406f93337db26a160fed",
            "value": " 20/20 [04:14&lt;00:00, 12.42s/it]"
          }
        },
        "bc8d01a4bf2c4e199546244756a491b7": {
          "model_module": "@jupyter-widgets/base",
          "model_module_version": "1.2.0",
          "model_name": "LayoutModel",
          "state": {
            "_model_module": "@jupyter-widgets/base",
            "_model_module_version": "1.2.0",
            "_model_name": "LayoutModel",
            "_view_count": null,
            "_view_module": "@jupyter-widgets/base",
            "_view_module_version": "1.2.0",
            "_view_name": "LayoutView",
            "align_content": null,
            "align_items": null,
            "align_self": null,
            "border": null,
            "bottom": null,
            "display": null,
            "flex": null,
            "flex_flow": null,
            "grid_area": null,
            "grid_auto_columns": null,
            "grid_auto_flow": null,
            "grid_auto_rows": null,
            "grid_column": null,
            "grid_gap": null,
            "grid_row": null,
            "grid_template_areas": null,
            "grid_template_columns": null,
            "grid_template_rows": null,
            "height": null,
            "justify_content": null,
            "justify_items": null,
            "left": null,
            "margin": null,
            "max_height": null,
            "max_width": null,
            "min_height": null,
            "min_width": null,
            "object_fit": null,
            "object_position": null,
            "order": null,
            "overflow": null,
            "overflow_x": null,
            "overflow_y": null,
            "padding": null,
            "right": null,
            "top": null,
            "visibility": null,
            "width": null
          }
        },
        "d435ca24bb894e6492aaeef0502ddbfa": {
          "model_module": "@jupyter-widgets/base",
          "model_module_version": "1.2.0",
          "model_name": "LayoutModel",
          "state": {
            "_model_module": "@jupyter-widgets/base",
            "_model_module_version": "1.2.0",
            "_model_name": "LayoutModel",
            "_view_count": null,
            "_view_module": "@jupyter-widgets/base",
            "_view_module_version": "1.2.0",
            "_view_name": "LayoutView",
            "align_content": null,
            "align_items": null,
            "align_self": null,
            "border": null,
            "bottom": null,
            "display": null,
            "flex": null,
            "flex_flow": null,
            "grid_area": null,
            "grid_auto_columns": null,
            "grid_auto_flow": null,
            "grid_auto_rows": null,
            "grid_column": null,
            "grid_gap": null,
            "grid_row": null,
            "grid_template_areas": null,
            "grid_template_columns": null,
            "grid_template_rows": null,
            "height": null,
            "justify_content": null,
            "justify_items": null,
            "left": null,
            "margin": null,
            "max_height": null,
            "max_width": null,
            "min_height": null,
            "min_width": null,
            "object_fit": null,
            "object_position": null,
            "order": null,
            "overflow": null,
            "overflow_x": null,
            "overflow_y": null,
            "padding": null,
            "right": null,
            "top": null,
            "visibility": null,
            "width": null
          }
        },
        "d43f4da5a6064e2f94e167e2f0b4cae1": {
          "model_module": "@jupyter-widgets/controls",
          "model_module_version": "1.5.0",
          "model_name": "HTMLModel",
          "state": {
            "_dom_classes": [],
            "_model_module": "@jupyter-widgets/controls",
            "_model_module_version": "1.5.0",
            "_model_name": "HTMLModel",
            "_view_count": null,
            "_view_module": "@jupyter-widgets/controls",
            "_view_module_version": "1.5.0",
            "_view_name": "HTMLView",
            "description": "",
            "description_tooltip": null,
            "layout": "IPY_MODEL_bc8d01a4bf2c4e199546244756a491b7",
            "placeholder": "​",
            "style": "IPY_MODEL_d5e02f4f92ed4704b91e4a299a56e5cd",
            "value": "Dl Completed...: 100%"
          }
        },
        "d5e02f4f92ed4704b91e4a299a56e5cd": {
          "model_module": "@jupyter-widgets/controls",
          "model_module_version": "1.5.0",
          "model_name": "DescriptionStyleModel",
          "state": {
            "_model_module": "@jupyter-widgets/controls",
            "_model_module_version": "1.5.0",
            "_model_name": "DescriptionStyleModel",
            "_view_count": null,
            "_view_module": "@jupyter-widgets/base",
            "_view_module_version": "1.2.0",
            "_view_name": "StyleView",
            "description_width": ""
          }
        },
        "e0d3140144fb4a2493de50f58e81a133": {
          "model_module": "@jupyter-widgets/controls",
          "model_module_version": "1.5.0",
          "model_name": "HTMLModel",
          "state": {
            "_dom_classes": [],
            "_model_module": "@jupyter-widgets/controls",
            "_model_module_version": "1.5.0",
            "_model_name": "HTMLModel",
            "_view_count": null,
            "_view_module": "@jupyter-widgets/controls",
            "_view_module_version": "1.5.0",
            "_view_name": "HTMLView",
            "description": "",
            "description_tooltip": null,
            "layout": "IPY_MODEL_83be66197f6f49229ad60d171056ed0a",
            "placeholder": "​",
            "style": "IPY_MODEL_0057761ba8344acf90911624763462a5",
            "value": "100%"
          }
        },
        "e3a6492eca994860b5bf4dd81298cd78": {
          "model_module": "@jupyter-widgets/base",
          "model_module_version": "1.2.0",
          "model_name": "LayoutModel",
          "state": {
            "_model_module": "@jupyter-widgets/base",
            "_model_module_version": "1.2.0",
            "_model_name": "LayoutModel",
            "_view_count": null,
            "_view_module": "@jupyter-widgets/base",
            "_view_module_version": "1.2.0",
            "_view_name": "LayoutView",
            "align_content": null,
            "align_items": null,
            "align_self": null,
            "border": null,
            "bottom": null,
            "display": null,
            "flex": null,
            "flex_flow": null,
            "grid_area": null,
            "grid_auto_columns": null,
            "grid_auto_flow": null,
            "grid_auto_rows": null,
            "grid_column": null,
            "grid_gap": null,
            "grid_row": null,
            "grid_template_areas": null,
            "grid_template_columns": null,
            "grid_template_rows": null,
            "height": null,
            "justify_content": null,
            "justify_items": null,
            "left": null,
            "margin": null,
            "max_height": null,
            "max_width": null,
            "min_height": null,
            "min_width": null,
            "object_fit": null,
            "object_position": null,
            "order": null,
            "overflow": null,
            "overflow_x": null,
            "overflow_y": null,
            "padding": null,
            "right": null,
            "top": null,
            "visibility": null,
            "width": null
          }
        }
      }
    }
  },
  "nbformat": 4,
  "nbformat_minor": 5
}
